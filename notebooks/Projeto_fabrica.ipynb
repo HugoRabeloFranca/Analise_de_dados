{
 "cells": [
  {
   "cell_type": "code",
   "execution_count": 1038,
   "id": "e0d53fa0-9eec-4235-8fdc-d823b80d8d3f",
   "metadata": {},
   "outputs": [],
   "source": [
    "import pandas as pd\n",
    "import matplotlib.pyplot as plt\n",
    "import numpy as np\n",
    "import seaborn as sns\n",
    "import math"
   ]
  },
  {
   "cell_type": "code",
   "execution_count": 1040,
   "id": "cc1b3aa2-5027-4422-ab63-d8bd271e4757",
   "metadata": {},
   "outputs": [],
   "source": [
    "#Análise de Dados Operacionais de uma Empresa Modelo do Setor de Bicicletas e Acessórios"
   ]
  },
  {
   "cell_type": "code",
   "execution_count": null,
   "id": "8282e41f-cc37-4d09-ae68-4473a92d2bd4",
   "metadata": {},
   "outputs": [],
   "source": []
  },
  {
   "cell_type": "code",
   "execution_count": 1043,
   "id": "556eb79c-31e2-42e1-a8fa-f02c7bd8936e",
   "metadata": {},
   "outputs": [],
   "source": [
    "# 1.Análise de estoque\n",
    "\n",
    "# 1.1 Consulta de produtos em estoque (SQL)\n",
    "\n",
    "#SELECT P.Name as Produtos, SUM(I.Quantity) as Em_Estoque\n",
    "#FROM Production.ProductInventory I\n",
    "#JOIN Production.Product P  on I.ProductID = P.ProductID\n",
    "#GROUP BY P.Name\n",
    "#HAVING SUM(I.Quantity) > 0\n",
    "#ORDER BY Em_Estoque desc\n"
   ]
  },
  {
   "cell_type": "code",
   "execution_count": 1045,
   "id": "9b1e0b83-d33e-47fc-abe1-c63f1c2f9b51",
   "metadata": {},
   "outputs": [],
   "source": [
    "# 1.2 Leitura do arquivo CSV\n",
    "df_estoque = pd.read_csv('prod_1.csv')"
   ]
  },
  {
   "cell_type": "code",
   "execution_count": 1047,
   "id": "2febbcf4-217e-4f22-bd86-ba537d3dd208",
   "metadata": {},
   "outputs": [
    {
     "name": "stdout",
     "output_type": "stream",
     "text": [
      "<class 'pandas.core.frame.DataFrame'>\n",
      "RangeIndex: 428 entries, 0 to 427\n",
      "Data columns (total 1 columns):\n",
      " #   Column            Non-Null Count  Dtype \n",
      "---  ------            --------------  ----- \n",
      " 0   Produtos;Estoque  428 non-null    object\n",
      "dtypes: object(1)\n",
      "memory usage: 3.5+ KB\n"
     ]
    },
    {
     "data": {
      "text/html": [
       "<div>\n",
       "<style scoped>\n",
       "    .dataframe tbody tr th:only-of-type {\n",
       "        vertical-align: middle;\n",
       "    }\n",
       "\n",
       "    .dataframe tbody tr th {\n",
       "        vertical-align: top;\n",
       "    }\n",
       "\n",
       "    .dataframe thead th {\n",
       "        text-align: right;\n",
       "    }\n",
       "</style>\n",
       "<table border=\"1\" class=\"dataframe\">\n",
       "  <thead>\n",
       "    <tr style=\"text-align: right;\">\n",
       "      <th></th>\n",
       "      <th>Produtos;Estoque</th>\n",
       "    </tr>\n",
       "  </thead>\n",
       "  <tbody>\n",
       "    <tr>\n",
       "      <th>0</th>\n",
       "      <td>Hex Nut 7;1911</td>\n",
       "    </tr>\n",
       "    <tr>\n",
       "      <th>1</th>\n",
       "      <td>Hex Nut 23;1901</td>\n",
       "    </tr>\n",
       "    <tr>\n",
       "      <th>2</th>\n",
       "      <td>Thin-Jam Hex Nut 3;1901</td>\n",
       "    </tr>\n",
       "    <tr>\n",
       "      <th>3</th>\n",
       "      <td>Hex Nut 10;1888</td>\n",
       "    </tr>\n",
       "    <tr>\n",
       "      <th>4</th>\n",
       "      <td>Hex Nut 14;1880</td>\n",
       "    </tr>\n",
       "  </tbody>\n",
       "</table>\n",
       "</div>"
      ],
      "text/plain": [
       "          Produtos;Estoque\n",
       "0           Hex Nut 7;1911\n",
       "1          Hex Nut 23;1901\n",
       "2  Thin-Jam Hex Nut 3;1901\n",
       "3          Hex Nut 10;1888\n",
       "4          Hex Nut 14;1880"
      ]
     },
     "execution_count": 1047,
     "metadata": {},
     "output_type": "execute_result"
    }
   ],
   "source": [
    "# 1.3 Verificação inicial dos dados\n",
    "\n",
    "#Verificação de quantas colunas e linhas possui;\n",
    "#Identificação do tipo de dado;\n",
    "#Identificação de valores nulos;\n",
    "df_estoque.info()\n",
    "#Verificação de valores duplicados\n",
    "df_estoque.duplicated().sum()\n",
    "#Print do topo da tabela para verificação visual\n",
    "df_estoque.head()"
   ]
  },
  {
   "cell_type": "code",
   "execution_count": 1049,
   "id": "ed2af53d-fdb3-4391-9362-eba71ea66efd",
   "metadata": {},
   "outputs": [],
   "source": [
    "# 1.4 Correção e padronização dos Dados\n",
    "\n",
    "#Substituição de espaços por _ para facilidar a divisão da coluna única por 2 colunas;\n",
    "df_estoque['Produtos;Estoque'] = df_estoque['Produtos;Estoque'].str.replace(' ', '_')\n",
    "#Disvisão da coluna única por 2 colunas;\n",
    "df_estoque[['Produtos', 'Estoque']] = df_estoque['Produtos;Estoque'].str.split(';', expand=True)\n",
    "#Retirada da coluna única remanescente;\n",
    "df_estoque.drop('Produtos;Estoque', axis=1, inplace=True)\n",
    "#Padronização dos dados\n",
    "df_estoque['Produtos'] = df_estoque['Produtos'].str.strip().str.lower().str.normalize('NFKD').str.encode('ascii', errors='ignore').str.decode('utf-8')"
   ]
  },
  {
   "cell_type": "code",
   "execution_count": 1051,
   "id": "41ca8a89-a708-45f9-80f9-0a7069dfffa8",
   "metadata": {},
   "outputs": [
    {
     "data": {
      "text/html": [
       "<div>\n",
       "<style scoped>\n",
       "    .dataframe tbody tr th:only-of-type {\n",
       "        vertical-align: middle;\n",
       "    }\n",
       "\n",
       "    .dataframe tbody tr th {\n",
       "        vertical-align: top;\n",
       "    }\n",
       "\n",
       "    .dataframe thead th {\n",
       "        text-align: right;\n",
       "    }\n",
       "</style>\n",
       "<table border=\"1\" class=\"dataframe\">\n",
       "  <thead>\n",
       "    <tr style=\"text-align: right;\">\n",
       "      <th></th>\n",
       "      <th>Produtos</th>\n",
       "      <th>Estoque</th>\n",
       "    </tr>\n",
       "  </thead>\n",
       "  <tbody>\n",
       "    <tr>\n",
       "      <th>0</th>\n",
       "      <td>hex nut 7</td>\n",
       "      <td>1911</td>\n",
       "    </tr>\n",
       "    <tr>\n",
       "      <th>1</th>\n",
       "      <td>hex nut 23</td>\n",
       "      <td>1901</td>\n",
       "    </tr>\n",
       "    <tr>\n",
       "      <th>2</th>\n",
       "      <td>thin jam hex nut 3</td>\n",
       "      <td>1901</td>\n",
       "    </tr>\n",
       "    <tr>\n",
       "      <th>3</th>\n",
       "      <td>hex nut 10</td>\n",
       "      <td>1888</td>\n",
       "    </tr>\n",
       "    <tr>\n",
       "      <th>4</th>\n",
       "      <td>hex nut 14</td>\n",
       "      <td>1880</td>\n",
       "    </tr>\n",
       "    <tr>\n",
       "      <th>...</th>\n",
       "      <td>...</td>\n",
       "      <td>...</td>\n",
       "    </tr>\n",
       "    <tr>\n",
       "      <th>423</th>\n",
       "      <td>paint   black</td>\n",
       "      <td>47</td>\n",
       "    </tr>\n",
       "    <tr>\n",
       "      <th>424</th>\n",
       "      <td>short sleeve classic jersey   l</td>\n",
       "      <td>36</td>\n",
       "    </tr>\n",
       "    <tr>\n",
       "      <th>425</th>\n",
       "      <td>bike wash   dissolver</td>\n",
       "      <td>36</td>\n",
       "    </tr>\n",
       "    <tr>\n",
       "      <th>426</th>\n",
       "      <td>half finger gloves   l</td>\n",
       "      <td>36</td>\n",
       "    </tr>\n",
       "    <tr>\n",
       "      <th>427</th>\n",
       "      <td>women s tights   l</td>\n",
       "      <td>36</td>\n",
       "    </tr>\n",
       "  </tbody>\n",
       "</table>\n",
       "<p>428 rows × 2 columns</p>\n",
       "</div>"
      ],
      "text/plain": [
       "                            Produtos  Estoque\n",
       "0                          hex nut 7     1911\n",
       "1                         hex nut 23     1901\n",
       "2                 thin jam hex nut 3     1901\n",
       "3                         hex nut 10     1888\n",
       "4                         hex nut 14     1880\n",
       "..                               ...      ...\n",
       "423                    paint   black       47\n",
       "424  short sleeve classic jersey   l       36\n",
       "425            bike wash   dissolver       36\n",
       "426           half finger gloves   l       36\n",
       "427               women s tights   l       36\n",
       "\n",
       "[428 rows x 2 columns]"
      ]
     },
     "execution_count": 1051,
     "metadata": {},
     "output_type": "execute_result"
    }
   ],
   "source": [
    "#Alteração do tipo de dados para futuras contas\n",
    "df_estoque['Estoque'] = df_estoque['Estoque'].astype(int)\n",
    "#Remoção de símbolos \n",
    "df_estoque['Produtos'] = df_estoque['Produtos'].replace(r'[^a-zA-Z0-9]',' ', regex=True)\n",
    "#Padronização com a retirada dos espaços duplos\n",
    "df_estoque['Produtos'] = df_estoque['Produtos'].replace(r'[\\s+]',' ',regex=True)\n",
    "df_estoque\n",
    "                                                        "
   ]
  },
  {
   "cell_type": "code",
   "execution_count": 1053,
   "id": "6bc34aca-212e-4ef1-b5d7-77e36bb361a8",
   "metadata": {},
   "outputs": [
    {
     "name": "stdout",
     "output_type": "stream",
     "text": [
      " O valor de Skewness é 0.39002228205122913\n",
      "Valores de referência:  ≈ 0, Gráfico normal; > 0, Gráfico com assimetria positiva; < 0, Gráfico com Assimetria negativa\n"
     ]
    }
   ],
   "source": [
    "#Avaliação da assimetria do grafico de unidades em estoque\n",
    "skewness = df_estoque['Estoque'].skew()\n",
    "print(f' O valor de Skewness é {skewness}')\n",
    "print('Valores de referência:  ≈ 0, Gráfico normal; > 0, Gráfico com assimetria positiva; < 0, Gráfico com Assimetria negativa')\n",
    "#O gráfico apresentou uma disposição com uma assimetria levemente positiva\n",
    "#Alguns produtos se mostram com o estoque mais alto que a média \n",
    "#Porém a distorção é baixíssima\n",
    "#O aumento de estoque de alguns produtos pode indicar uma redução da rotatividade dos produtos, a identificação de produtos sazonais, ou estratégicos"
   ]
  },
  {
   "cell_type": "code",
   "execution_count": 1055,
   "id": "d3a12458-5373-42b8-990e-07740a4a5f7e",
   "metadata": {},
   "outputs": [
    {
     "data": {
      "text/html": [
       "<div>\n",
       "<style scoped>\n",
       "    .dataframe tbody tr th:only-of-type {\n",
       "        vertical-align: middle;\n",
       "    }\n",
       "\n",
       "    .dataframe tbody tr th {\n",
       "        vertical-align: top;\n",
       "    }\n",
       "\n",
       "    .dataframe thead th {\n",
       "        text-align: right;\n",
       "    }\n",
       "</style>\n",
       "<table border=\"1\" class=\"dataframe\">\n",
       "  <thead>\n",
       "    <tr style=\"text-align: right;\">\n",
       "      <th></th>\n",
       "      <th>Estoque</th>\n",
       "    </tr>\n",
       "  </thead>\n",
       "  <tbody>\n",
       "    <tr>\n",
       "      <th>count</th>\n",
       "      <td>428.00</td>\n",
       "    </tr>\n",
       "    <tr>\n",
       "      <th>mean</th>\n",
       "      <td>784.99</td>\n",
       "    </tr>\n",
       "    <tr>\n",
       "      <th>std</th>\n",
       "      <td>572.10</td>\n",
       "    </tr>\n",
       "    <tr>\n",
       "      <th>min</th>\n",
       "      <td>36.00</td>\n",
       "    </tr>\n",
       "    <tr>\n",
       "      <th>25%</th>\n",
       "      <td>185.00</td>\n",
       "    </tr>\n",
       "    <tr>\n",
       "      <th>50%</th>\n",
       "      <td>796.50</td>\n",
       "    </tr>\n",
       "    <tr>\n",
       "      <th>75%</th>\n",
       "      <td>1,111.50</td>\n",
       "    </tr>\n",
       "    <tr>\n",
       "      <th>max</th>\n",
       "      <td>1,911.00</td>\n",
       "    </tr>\n",
       "  </tbody>\n",
       "</table>\n",
       "</div>"
      ],
      "text/plain": [
       "       Estoque\n",
       "count   428.00\n",
       "mean    784.99\n",
       "std     572.10\n",
       "min      36.00\n",
       "25%     185.00\n",
       "50%     796.50\n",
       "75%   1,111.50\n",
       "max   1,911.00"
      ]
     },
     "execution_count": 1055,
     "metadata": {},
     "output_type": "execute_result"
    }
   ],
   "source": [
    "#Dados estatísticos básicos\n",
    "df_estoque.describe()"
   ]
  },
  {
   "cell_type": "code",
   "execution_count": 1233,
   "id": "f46cc620-9705-4bf9-8d21-acf6d1ba5d63",
   "metadata": {},
   "outputs": [
    {
     "data": {
      "image/png": "[encoded data removed]",
      "text/plain": [
       "<Figure size 640x480 with 1 Axes>"
      ]
     },
     "metadata": {},
     "output_type": "display_data"
    }
   ],
   "source": [
    "#Identificação de outliers no estoque\n",
    "sns.boxplot(x=df_estoque['Estoque'])\n",
    "plt.title('Boxplot dos produtos em estoque')\n",
    "plt.savefig('imagens/grafico_1.png', dpi=300, bbox_inches='tight')\n",
    "plt.show()\n",
    "#Não houveram Outliers nos dados do estoque"
   ]
  },
  {
   "cell_type": "code",
   "execution_count": 1059,
   "id": "29f24f32-1432-4d80-ac48-2c26828f56de",
   "metadata": {},
   "outputs": [
    {
     "name": "stdout",
     "output_type": "stream",
     "text": [
      "A Quantidade TOTAL de produtos em estoque é 335974.\n"
     ]
    }
   ],
   "source": [
    "# 1.5 Análise de produtos em estoque\n",
    "\n",
    "#Verificação da quantidade total de produtos em estoque\n",
    "estoque_total = df_estoque['Estoque'].sum()\n",
    "print(f'A Quantidade TOTAL de produtos em estoque é {estoque_total}.')"
   ]
  },
  {
   "cell_type": "code",
   "execution_count": 1061,
   "id": "1a1944ce-61b7-4318-bdaf-329fa0be7f64",
   "metadata": {},
   "outputs": [
    {
     "data": {
      "text/html": [
       "<div>\n",
       "<style scoped>\n",
       "    .dataframe tbody tr th:only-of-type {\n",
       "        vertical-align: middle;\n",
       "    }\n",
       "\n",
       "    .dataframe tbody tr th {\n",
       "        vertical-align: top;\n",
       "    }\n",
       "\n",
       "    .dataframe thead th {\n",
       "        text-align: right;\n",
       "    }\n",
       "</style>\n",
       "<table border=\"1\" class=\"dataframe\">\n",
       "  <thead>\n",
       "    <tr style=\"text-align: right;\">\n",
       "      <th></th>\n",
       "      <th>Produtos</th>\n",
       "      <th>Estoque</th>\n",
       "    </tr>\n",
       "  </thead>\n",
       "  <tbody>\n",
       "    <tr>\n",
       "      <th>0</th>\n",
       "      <td>hex nut 7</td>\n",
       "      <td>1911</td>\n",
       "    </tr>\n",
       "    <tr>\n",
       "      <th>2</th>\n",
       "      <td>thin jam hex nut 3</td>\n",
       "      <td>1901</td>\n",
       "    </tr>\n",
       "    <tr>\n",
       "      <th>1</th>\n",
       "      <td>hex nut 23</td>\n",
       "      <td>1901</td>\n",
       "    </tr>\n",
       "    <tr>\n",
       "      <th>3</th>\n",
       "      <td>hex nut 10</td>\n",
       "      <td>1888</td>\n",
       "    </tr>\n",
       "    <tr>\n",
       "      <th>4</th>\n",
       "      <td>hex nut 14</td>\n",
       "      <td>1880</td>\n",
       "    </tr>\n",
       "    <tr>\n",
       "      <th>5</th>\n",
       "      <td>metal tread plate</td>\n",
       "      <td>1837</td>\n",
       "    </tr>\n",
       "    <tr>\n",
       "      <th>6</th>\n",
       "      <td>hex nut 18</td>\n",
       "      <td>1824</td>\n",
       "    </tr>\n",
       "    <tr>\n",
       "      <th>7</th>\n",
       "      <td>hex nut 2</td>\n",
       "      <td>1808</td>\n",
       "    </tr>\n",
       "    <tr>\n",
       "      <th>8</th>\n",
       "      <td>hex nut 6</td>\n",
       "      <td>1781</td>\n",
       "    </tr>\n",
       "    <tr>\n",
       "      <th>9</th>\n",
       "      <td>thin jam hex nut 7</td>\n",
       "      <td>1781</td>\n",
       "    </tr>\n",
       "  </tbody>\n",
       "</table>\n",
       "</div>"
      ],
      "text/plain": [
       "             Produtos  Estoque\n",
       "0           hex nut 7     1911\n",
       "2  thin jam hex nut 3     1901\n",
       "1          hex nut 23     1901\n",
       "3          hex nut 10     1888\n",
       "4          hex nut 14     1880\n",
       "5   metal tread plate     1837\n",
       "6          hex nut 18     1824\n",
       "7           hex nut 2     1808\n",
       "8           hex nut 6     1781\n",
       "9  thin jam hex nut 7     1781"
      ]
     },
     "execution_count": 1061,
     "metadata": {},
     "output_type": "execute_result"
    }
   ],
   "source": [
    "#Os 10 produtos com maiores quantidades em estoque\n",
    "estoque_MAX = df_estoque.sort_values('Estoque', ascending=False).head(10)\n",
    "estoque_MAX"
   ]
  },
  {
   "cell_type": "code",
   "execution_count": 1063,
   "id": "d8365f01-0b81-4321-88b8-32893f824ad5",
   "metadata": {},
   "outputs": [
    {
     "data": {
      "text/html": [
       "<div>\n",
       "<style scoped>\n",
       "    .dataframe tbody tr th:only-of-type {\n",
       "        vertical-align: middle;\n",
       "    }\n",
       "\n",
       "    .dataframe tbody tr th {\n",
       "        vertical-align: top;\n",
       "    }\n",
       "\n",
       "    .dataframe thead th {\n",
       "        text-align: right;\n",
       "    }\n",
       "</style>\n",
       "<table border=\"1\" class=\"dataframe\">\n",
       "  <thead>\n",
       "    <tr style=\"text-align: right;\">\n",
       "      <th></th>\n",
       "      <th>Produtos</th>\n",
       "      <th>Estoque</th>\n",
       "    </tr>\n",
       "  </thead>\n",
       "  <tbody>\n",
       "    <tr>\n",
       "      <th>427</th>\n",
       "      <td>women s tights   l</td>\n",
       "      <td>36</td>\n",
       "    </tr>\n",
       "    <tr>\n",
       "      <th>424</th>\n",
       "      <td>short sleeve classic jersey   l</td>\n",
       "      <td>36</td>\n",
       "    </tr>\n",
       "    <tr>\n",
       "      <th>426</th>\n",
       "      <td>half finger gloves   l</td>\n",
       "      <td>36</td>\n",
       "    </tr>\n",
       "    <tr>\n",
       "      <th>425</th>\n",
       "      <td>bike wash   dissolver</td>\n",
       "      <td>36</td>\n",
       "    </tr>\n",
       "    <tr>\n",
       "      <th>423</th>\n",
       "      <td>paint   black</td>\n",
       "      <td>47</td>\n",
       "    </tr>\n",
       "    <tr>\n",
       "      <th>422</th>\n",
       "      <td>paint   silver</td>\n",
       "      <td>65</td>\n",
       "    </tr>\n",
       "    <tr>\n",
       "      <th>421</th>\n",
       "      <td>short sleeve classic jersey   xl</td>\n",
       "      <td>72</td>\n",
       "    </tr>\n",
       "    <tr>\n",
       "      <th>420</th>\n",
       "      <td>full finger gloves   s</td>\n",
       "      <td>72</td>\n",
       "    </tr>\n",
       "    <tr>\n",
       "      <th>419</th>\n",
       "      <td>touring panniers   large</td>\n",
       "      <td>72</td>\n",
       "    </tr>\n",
       "    <tr>\n",
       "      <th>418</th>\n",
       "      <td>men s bib shorts   s</td>\n",
       "      <td>72</td>\n",
       "    </tr>\n",
       "  </tbody>\n",
       "</table>\n",
       "</div>"
      ],
      "text/plain": [
       "                             Produtos  Estoque\n",
       "427                women s tights   l       36\n",
       "424   short sleeve classic jersey   l       36\n",
       "426            half finger gloves   l       36\n",
       "425             bike wash   dissolver       36\n",
       "423                     paint   black       47\n",
       "422                    paint   silver       65\n",
       "421  short sleeve classic jersey   xl       72\n",
       "420            full finger gloves   s       72\n",
       "419          touring panniers   large       72\n",
       "418              men s bib shorts   s       72"
      ]
     },
     "execution_count": 1063,
     "metadata": {},
     "output_type": "execute_result"
    }
   ],
   "source": [
    "# Os 10 produtos com menores quantidades em estoque\n",
    "estoque_MIN = df_estoque .sort_values('Estoque').head(10)\n",
    "estoque_MIN"
   ]
  },
  {
   "cell_type": "code",
   "execution_count": null,
   "id": "887186c2-12d4-4fb2-8905-71b74c1b6f31",
   "metadata": {},
   "outputs": [],
   "source": []
  },
  {
   "cell_type": "code",
   "execution_count": 1066,
   "id": "d6f3feee-cec9-4b17-8a6d-5953ec8b810d",
   "metadata": {},
   "outputs": [],
   "source": [
    "# 2.Produtos zerados em estoque\n",
    "\n",
    "# 2.1 Consulta dos dados no Banco (SQL)\n",
    "\n",
    "#SELECT P.Name as Produtos, SUM(I.Quantity) as Em_Estoque\n",
    "#FROM Production.ProductInventory I\n",
    "#JOIN Production.Product P  on I.ProductID = P.ProductID\n",
    "#GROUP BY P.Name\n",
    "#HAVING SUM(I.Quantity) = 0\n",
    "#ORDER BY Em_Estoque desc"
   ]
  },
  {
   "cell_type": "code",
   "execution_count": 1068,
   "id": "c8655b9e-8505-43a2-9fb5-00a656f309d7",
   "metadata": {},
   "outputs": [],
   "source": [
    "# 2.2 Leitura do arquivo CSV\n",
    "df_zero = pd.read_csv('prod_2.csv')"
   ]
  },
  {
   "cell_type": "code",
   "execution_count": 1070,
   "id": "0082c360-2ba2-4d6f-aad6-23124fc2cd51",
   "metadata": {},
   "outputs": [
    {
     "name": "stdout",
     "output_type": "stream",
     "text": [
      "<class 'pandas.core.frame.DataFrame'>\n",
      "RangeIndex: 4 entries, 0 to 3\n",
      "Data columns (total 1 columns):\n",
      " #   Column            Non-Null Count  Dtype \n",
      "---  ------            --------------  ----- \n",
      " 0   produtos;estoque  4 non-null      object\n",
      "dtypes: object(1)\n",
      "memory usage: 164.0+ bytes\n"
     ]
    },
    {
     "data": {
      "text/html": [
       "<div>\n",
       "<style scoped>\n",
       "    .dataframe tbody tr th:only-of-type {\n",
       "        vertical-align: middle;\n",
       "    }\n",
       "\n",
       "    .dataframe tbody tr th {\n",
       "        vertical-align: top;\n",
       "    }\n",
       "\n",
       "    .dataframe thead th {\n",
       "        text-align: right;\n",
       "    }\n",
       "</style>\n",
       "<table border=\"1\" class=\"dataframe\">\n",
       "  <thead>\n",
       "    <tr style=\"text-align: right;\">\n",
       "      <th></th>\n",
       "      <th>produtos;estoque</th>\n",
       "    </tr>\n",
       "  </thead>\n",
       "  <tbody>\n",
       "    <tr>\n",
       "      <th>0</th>\n",
       "      <td>Womens_Tights__M;0</td>\n",
       "    </tr>\n",
       "    <tr>\n",
       "      <th>1</th>\n",
       "      <td>Half_Finger_Gloves__M;0</td>\n",
       "    </tr>\n",
       "    <tr>\n",
       "      <th>2</th>\n",
       "      <td>Hitch_Rack___4_Bike;0</td>\n",
       "    </tr>\n",
       "    <tr>\n",
       "      <th>3</th>\n",
       "      <td>Short_Sleeve_Classic_Jersey__M;0</td>\n",
       "    </tr>\n",
       "  </tbody>\n",
       "</table>\n",
       "</div>"
      ],
      "text/plain": [
       "                   produtos;estoque\n",
       "0                Womens_Tights__M;0\n",
       "1           Half_Finger_Gloves__M;0\n",
       "2             Hitch_Rack___4_Bike;0\n",
       "3  Short_Sleeve_Classic_Jersey__M;0"
      ]
     },
     "execution_count": 1070,
     "metadata": {},
     "output_type": "execute_result"
    }
   ],
   "source": [
    "# 2.2 Verificação inicial dos dados\n",
    "df_zero.info()\n",
    "df_zero.duplicated().sum()\n",
    "df_zero.head()\n",
    "#Identificar a motivação: Se os produtos saíram de linha, possuem uma rotatividade muito alta ou houve algum erro durante a produção"
   ]
  },
  {
   "cell_type": "code",
   "execution_count": 1072,
   "id": "5b0ef8a0-9ec4-475f-b32b-403761f175b5",
   "metadata": {},
   "outputs": [],
   "source": [
    "# 2.3 Correção e padronização de dados\n",
    "df_zero[['produtos', 'estoque']] = df_zero['produtos;estoque'].str.split(';',expand=True)\n",
    "df_zero.drop('produtos;estoque', axis=1, inplace=True)\n",
    "df_zero['produtos'] = df_zero['produtos'].str.replace('_',' ')\n",
    "df_zero['produtos'] = df_zero['produtos'].str.strip().str.lower().str.normalize('NFKD').str.encode('ascii', errors='ignore').str.decode('utf-8')\n",
    "df_zero['estoque'] = df_zero['estoque'].astype(int)\n",
    "df_zero['produtos'] = df_zero['produtos'].replace(r'a-zA-Z0-9',' ',regex=True).replace(r'\\s+',' ', regex=True)"
   ]
  },
  {
   "cell_type": "code",
   "execution_count": 1074,
   "id": "02e3bff2-a067-43bd-aed5-4ba37345ba67",
   "metadata": {},
   "outputs": [
    {
     "name": "stdout",
     "output_type": "stream",
     "text": [
      "Os produtos ausentes em estoque são: womens tights m, half finger gloves m, hitch rack 4 bike, short sleeve classic jersey m\n"
     ]
    },
    {
     "data": {
      "text/html": [
       "<div>\n",
       "<style scoped>\n",
       "    .dataframe tbody tr th:only-of-type {\n",
       "        vertical-align: middle;\n",
       "    }\n",
       "\n",
       "    .dataframe tbody tr th {\n",
       "        vertical-align: top;\n",
       "    }\n",
       "\n",
       "    .dataframe thead th {\n",
       "        text-align: right;\n",
       "    }\n",
       "</style>\n",
       "<table border=\"1\" class=\"dataframe\">\n",
       "  <thead>\n",
       "    <tr style=\"text-align: right;\">\n",
       "      <th></th>\n",
       "      <th>produtos</th>\n",
       "      <th>estoque</th>\n",
       "    </tr>\n",
       "  </thead>\n",
       "  <tbody>\n",
       "    <tr>\n",
       "      <th>0</th>\n",
       "      <td>womens tights m</td>\n",
       "      <td>0</td>\n",
       "    </tr>\n",
       "    <tr>\n",
       "      <th>1</th>\n",
       "      <td>half finger gloves m</td>\n",
       "      <td>0</td>\n",
       "    </tr>\n",
       "    <tr>\n",
       "      <th>2</th>\n",
       "      <td>hitch rack 4 bike</td>\n",
       "      <td>0</td>\n",
       "    </tr>\n",
       "    <tr>\n",
       "      <th>3</th>\n",
       "      <td>short sleeve classic jersey m</td>\n",
       "      <td>0</td>\n",
       "    </tr>\n",
       "  </tbody>\n",
       "</table>\n",
       "</div>"
      ],
      "text/plain": [
       "                        produtos  estoque\n",
       "0                womens tights m        0\n",
       "1           half finger gloves m        0\n",
       "2              hitch rack 4 bike        0\n",
       "3  short sleeve classic jersey m        0"
      ]
     },
     "execution_count": 1074,
     "metadata": {},
     "output_type": "execute_result"
    }
   ],
   "source": [
    "# 2.4 Produtos zerados no estoque\n",
    "nome_prod = ', '.join(produto for produto in df_zero['produtos'])\n",
    "print(f'Os produtos ausentes em estoque são: {nome_prod}')\n",
    "df_zero\n",
    "#Identificar a motivação: Se os produtos saíram de linha, possuem uma rotatividade muito alta ou houve algum erro durante a produção"
   ]
  },
  {
   "cell_type": "code",
   "execution_count": null,
   "id": "06b60c0c-b8b4-483e-88c3-8f82faadb3cd",
   "metadata": {},
   "outputs": [],
   "source": []
  },
  {
   "cell_type": "code",
   "execution_count": 1077,
   "id": "577d818b-59f7-4033-a386-ddce2dd21f7b",
   "metadata": {},
   "outputs": [],
   "source": [
    "# 4.Verificação da localidade dos estoques que possuem maiores quantidades de produtos\n",
    "\n",
    "# 4.1 Consulta de dados no Banco (SQL)\n",
    "\n",
    "#SELECT I.LocationID as Localização, SUM(I.Quantity) as Quant_Estoque\n",
    "#FROM Production.ProductInventory I \n",
    "#GROUP BY I.LocationID\n",
    "#ORDER BY SUM(I.Quantity) desc"
   ]
  },
  {
   "cell_type": "code",
   "execution_count": 1079,
   "id": "4bb8fd70-ec84-4400-87ad-057bf3a249dc",
   "metadata": {},
   "outputs": [],
   "source": [
    "# 4.2 Leitura dos dados em CSV\n",
    "\n",
    "df_loc = pd.read_csv('prod_4.csv')"
   ]
  },
  {
   "cell_type": "code",
   "execution_count": 1081,
   "id": "52bc94c1-ea32-48a8-957f-fba755c481c3",
   "metadata": {},
   "outputs": [
    {
     "name": "stdout",
     "output_type": "stream",
     "text": [
      "<class 'pandas.core.frame.DataFrame'>\n",
      "RangeIndex: 14 entries, 0 to 13\n",
      "Data columns (total 1 columns):\n",
      " #   Column                     Non-Null Count  Dtype \n",
      "---  ------                     --------------  ----- \n",
      " 0   Localiazacao;Qtd_produtos  14 non-null     object\n",
      "dtypes: object(1)\n",
      "memory usage: 244.0+ bytes\n"
     ]
    },
    {
     "data": {
      "text/html": [
       "<div>\n",
       "<style scoped>\n",
       "    .dataframe tbody tr th:only-of-type {\n",
       "        vertical-align: middle;\n",
       "    }\n",
       "\n",
       "    .dataframe tbody tr th {\n",
       "        vertical-align: top;\n",
       "    }\n",
       "\n",
       "    .dataframe thead th {\n",
       "        text-align: right;\n",
       "    }\n",
       "</style>\n",
       "<table border=\"1\" class=\"dataframe\">\n",
       "  <thead>\n",
       "    <tr style=\"text-align: right;\">\n",
       "      <th></th>\n",
       "      <th>Localiazacao;Qtd_produtos</th>\n",
       "    </tr>\n",
       "  </thead>\n",
       "  <tbody>\n",
       "    <tr>\n",
       "      <th>0</th>\n",
       "      <td>50;95477</td>\n",
       "    </tr>\n",
       "    <tr>\n",
       "      <th>1</th>\n",
       "      <td>6;83173</td>\n",
       "    </tr>\n",
       "    <tr>\n",
       "      <th>2</th>\n",
       "      <td>1;72899</td>\n",
       "    </tr>\n",
       "    <tr>\n",
       "      <th>3</th>\n",
       "      <td>60;20419</td>\n",
       "    </tr>\n",
       "    <tr>\n",
       "      <th>4</th>\n",
       "      <td>5;20295</td>\n",
       "    </tr>\n",
       "    <tr>\n",
       "      <th>5</th>\n",
       "      <td>7;17319</td>\n",
       "    </tr>\n",
       "    <tr>\n",
       "      <th>6</th>\n",
       "      <td>10;13584</td>\n",
       "    </tr>\n",
       "    <tr>\n",
       "      <th>7</th>\n",
       "      <td>2;5549</td>\n",
       "    </tr>\n",
       "    <tr>\n",
       "      <th>8</th>\n",
       "      <td>20;5165</td>\n",
       "    </tr>\n",
       "    <tr>\n",
       "      <th>9</th>\n",
       "      <td>30;958</td>\n",
       "    </tr>\n",
       "    <tr>\n",
       "      <th>10</th>\n",
       "      <td>40;508</td>\n",
       "    </tr>\n",
       "    <tr>\n",
       "      <th>11</th>\n",
       "      <td>45;332</td>\n",
       "    </tr>\n",
       "    <tr>\n",
       "      <th>12</th>\n",
       "      <td>3;186</td>\n",
       "    </tr>\n",
       "    <tr>\n",
       "      <th>13</th>\n",
       "      <td>4;110</td>\n",
       "    </tr>\n",
       "  </tbody>\n",
       "</table>\n",
       "</div>"
      ],
      "text/plain": [
       "   Localiazacao;Qtd_produtos\n",
       "0                   50;95477\n",
       "1                    6;83173\n",
       "2                    1;72899\n",
       "3                   60;20419\n",
       "4                    5;20295\n",
       "5                    7;17319\n",
       "6                   10;13584\n",
       "7                     2;5549\n",
       "8                    20;5165\n",
       "9                     30;958\n",
       "10                    40;508\n",
       "11                    45;332\n",
       "12                     3;186\n",
       "13                     4;110"
      ]
     },
     "execution_count": 1081,
     "metadata": {},
     "output_type": "execute_result"
    }
   ],
   "source": [
    "# 4.3 Verificação de informações iniciais\n",
    "\n",
    "df_loc.info()\n",
    "df_loc.duplicated().sum()\n",
    "df_loc"
   ]
  },
  {
   "cell_type": "code",
   "execution_count": 1083,
   "id": "58e40fa0-7980-45aa-8e87-f82915421ff4",
   "metadata": {},
   "outputs": [
    {
     "data": {
      "text/html": [
       "<div>\n",
       "<style scoped>\n",
       "    .dataframe tbody tr th:only-of-type {\n",
       "        vertical-align: middle;\n",
       "    }\n",
       "\n",
       "    .dataframe tbody tr th {\n",
       "        vertical-align: top;\n",
       "    }\n",
       "\n",
       "    .dataframe thead th {\n",
       "        text-align: right;\n",
       "    }\n",
       "</style>\n",
       "<table border=\"1\" class=\"dataframe\">\n",
       "  <thead>\n",
       "    <tr style=\"text-align: right;\">\n",
       "      <th></th>\n",
       "      <th>Localizacao</th>\n",
       "      <th>Qtd_produtos</th>\n",
       "    </tr>\n",
       "  </thead>\n",
       "  <tbody>\n",
       "    <tr>\n",
       "      <th>0</th>\n",
       "      <td>Armazém 50</td>\n",
       "      <td>95477</td>\n",
       "    </tr>\n",
       "    <tr>\n",
       "      <th>1</th>\n",
       "      <td>Armazém 6</td>\n",
       "      <td>83173</td>\n",
       "    </tr>\n",
       "    <tr>\n",
       "      <th>2</th>\n",
       "      <td>Armazém 1</td>\n",
       "      <td>72899</td>\n",
       "    </tr>\n",
       "    <tr>\n",
       "      <th>3</th>\n",
       "      <td>Armazém 60</td>\n",
       "      <td>20419</td>\n",
       "    </tr>\n",
       "    <tr>\n",
       "      <th>4</th>\n",
       "      <td>Armazém 5</td>\n",
       "      <td>20295</td>\n",
       "    </tr>\n",
       "    <tr>\n",
       "      <th>5</th>\n",
       "      <td>Armazém 7</td>\n",
       "      <td>17319</td>\n",
       "    </tr>\n",
       "    <tr>\n",
       "      <th>6</th>\n",
       "      <td>Armazém 10</td>\n",
       "      <td>13584</td>\n",
       "    </tr>\n",
       "    <tr>\n",
       "      <th>7</th>\n",
       "      <td>Armazém 2</td>\n",
       "      <td>5549</td>\n",
       "    </tr>\n",
       "    <tr>\n",
       "      <th>8</th>\n",
       "      <td>Armazém 20</td>\n",
       "      <td>5165</td>\n",
       "    </tr>\n",
       "    <tr>\n",
       "      <th>9</th>\n",
       "      <td>Armazém 30</td>\n",
       "      <td>958</td>\n",
       "    </tr>\n",
       "    <tr>\n",
       "      <th>10</th>\n",
       "      <td>Armazém 40</td>\n",
       "      <td>508</td>\n",
       "    </tr>\n",
       "    <tr>\n",
       "      <th>11</th>\n",
       "      <td>Armazém 45</td>\n",
       "      <td>332</td>\n",
       "    </tr>\n",
       "    <tr>\n",
       "      <th>12</th>\n",
       "      <td>Armazém 3</td>\n",
       "      <td>186</td>\n",
       "    </tr>\n",
       "    <tr>\n",
       "      <th>13</th>\n",
       "      <td>Armazém 4</td>\n",
       "      <td>110</td>\n",
       "    </tr>\n",
       "  </tbody>\n",
       "</table>\n",
       "</div>"
      ],
      "text/plain": [
       "   Localizacao Qtd_produtos\n",
       "0   Armazém 50        95477\n",
       "1    Armazém 6        83173\n",
       "2    Armazém 1        72899\n",
       "3   Armazém 60        20419\n",
       "4    Armazém 5        20295\n",
       "5    Armazém 7        17319\n",
       "6   Armazém 10        13584\n",
       "7    Armazém 2         5549\n",
       "8   Armazém 20         5165\n",
       "9   Armazém 30          958\n",
       "10  Armazém 40          508\n",
       "11  Armazém 45          332\n",
       "12   Armazém 3          186\n",
       "13   Armazém 4          110"
      ]
     },
     "execution_count": 1083,
     "metadata": {},
     "output_type": "execute_result"
    }
   ],
   "source": [
    "# 4.4 Limpeza e formatação de dados\n",
    "\n",
    "df_loc[['Localizacao', 'Qtd_produtos']] = df_loc['Localiazacao;Qtd_produtos'].str.split(';',expand=True)\n",
    "df_loc.drop('Localiazacao;Qtd_produtos', axis=1, inplace=True)\n",
    "df_loc.columns.str.strip()\n",
    "df_loc['Localizacao'] = 'Armazém ' + df_loc['Localizacao'].astype(str)\n",
    "df_loc['Qtd_produtos'].astype(int)\n",
    "df_loc"
   ]
  },
  {
   "cell_type": "code",
   "execution_count": 1085,
   "id": "fb14bf8d-23c1-4d6c-9f74-266e523d2909",
   "metadata": {},
   "outputs": [
    {
     "data": {
      "text/plain": [
       "1.4443122357207652"
      ]
     },
     "execution_count": 1085,
     "metadata": {},
     "output_type": "execute_result"
    }
   ],
   "source": [
    "#Identificação da curva do grafico de frequência\n",
    "skewness_loc = df_loc['Qtd_produtos'].skew()\n",
    "skewness_loc\n",
    "\n",
    "#Identificação de um gráfico assimétrico positivo\n",
    "#Isso significa a presença de maiores volumes de produtos em determinados armazéns"
   ]
  },
  {
   "cell_type": "code",
   "execution_count": 1235,
   "id": "56116eb5-4478-4d62-9659-2b45292c7444",
   "metadata": {},
   "outputs": [
    {
     "data": {
      "image/png": "[encoded data removed]",
      "text/plain": [
       "<Figure size 640x480 with 1 Axes>"
      ]
     },
     "metadata": {},
     "output_type": "display_data"
    }
   ],
   "source": [
    "#Identificação dos Outliers\n",
    "sns.boxplot(x=df_loc['Qtd_produtos'])\n",
    "plt.title('Localizações com outliers')\n",
    "plt.savefig('imagens/grafico_2.png', dpi=300, bbox_inches='tight')\n",
    "plt.show()"
   ]
  },
  {
   "cell_type": "code",
   "execution_count": 1089,
   "id": "1d58861e-fb7c-4c6d-bce1-5011c28a67cb",
   "metadata": {},
   "outputs": [],
   "source": [
    "#Analise do volume de produtos em estoque em cada localidade\n",
    "\n",
    "#Dados do gráfico\n",
    "df_grafico= df_loc.copy()\n",
    "df_grafico['Qtd_produtos'] = df_grafico['Qtd_produtos'].astype(int)\n",
    "df_grafico['porcentagem'] = (df_grafico['Qtd_produtos'] / df_grafico['Qtd_produtos'].sum())*100\n",
    "df_grafico.loc[df_grafico['porcentagem']<4, 'Localizacao'] = 'Outros'\n",
    "df_grafico = df_grafico.groupby('Localizacao', as_index= False)['Qtd_produtos'].sum()"
   ]
  },
  {
   "cell_type": "code",
   "execution_count": 1237,
   "id": "1ea74075-ccd9-48aa-9de5-b7eb2f7e0afd",
   "metadata": {},
   "outputs": [
    {
     "data": {
      "image/png": "[encoded data removed]",
      "text/plain": [
       "<Figure size 600x600 with 1 Axes>"
      ]
     },
     "metadata": {},
     "output_type": "display_data"
    }
   ],
   "source": [
    "#Criação do gráfico\n",
    "labels = df_grafico['Localizacao']\n",
    "valores = df_grafico['Qtd_produtos']\n",
    "plt.figure(figsize=(6,6))\n",
    "plt.pie(valores, labels=df_grafico['Localizacao'], autopct='%1.1f%%', startangle= 90)\n",
    "plt.axis('equal')  \n",
    "plt.title('Distribuição dos Produtos por Armazéns')\n",
    "plt.savefig('imagens/grafico_3.png', dpi=300, bbox_inches='tight')\n",
    "plt.show()\n",
    "        \n"
   ]
  },
  {
   "cell_type": "code",
   "execution_count": 1093,
   "id": "d2a9efe2-b7e0-4903-ae7f-2a1091d31f96",
   "metadata": {},
   "outputs": [],
   "source": [
    "#Análise Final\n",
    "\n",
    "# Após a análise do gráfico, nota-se que cerca de 75% dos produtos armazenados apresentam-se em 3 armazéns principais: Armazém 50, Armazém 6 e Armazém 1.\n",
    "# A concentração do armazenamento dos produtos em apenas 3 estoques pode ocasionar um gargalo operacional através da inoperância de algum deles.\n",
    "# A Solução seria reavaliar a logísstica para descobrir se há a possibilidade de redistribuição do estoque.\n",
    "# Além de verificar se, em uma possível inoperação dos principais armazéns, os outros apresentariam capacidade para suprir as demandas gerais.\n",
    "# Outra saída seria avaliar o que diferencia esses 3 armazéns principais em questão de processos e infraestrutura para replicar nos outros armazéns e criar planos de contingência.\n"
   ]
  },
  {
   "cell_type": "code",
   "execution_count": 1095,
   "id": "22b5dd65-aa1f-4a63-9b09-569bb2608569",
   "metadata": {},
   "outputs": [],
   "source": [
    "# 5.Locais para onde os produtos sao mais vendidos, Ticket médio por região, Faturamento por região\n",
    "#(Foi identificada uma Região com ticket médio elevado, mesmo com baixo volume de aquisição)\n",
    "\n",
    "#SELECT TerritoryID as Território, \n",
    "#COUNT(SalesOrderID) as Pedidos_Territorio, \n",
    "#SUM(SubTotal) as Total_Compra,\n",
    "#AVG(SubTotal) as Media_compra\n",
    "#FROM Sales.SalesOrderHeader\n",
    "#GROUP BY TerritoryID\n",
    "#ORDER BY COUNT(SalesOrderID) desc"
   ]
  },
  {
   "cell_type": "code",
   "execution_count": 1097,
   "id": "a5d1b768-c005-4d5c-bf87-31bbf589c6d7",
   "metadata": {},
   "outputs": [],
   "source": [
    "# 5.1 Leitura do arquivo CSV\n",
    "\n",
    "df_prod = pd.read_csv('prod_5.csv', sep=';',engine='python')"
   ]
  },
  {
   "cell_type": "code",
   "execution_count": 1099,
   "id": "37ef7bfb-9b80-4a1c-b8bb-a673c8786f0e",
   "metadata": {},
   "outputs": [
    {
     "name": "stdout",
     "output_type": "stream",
     "text": [
      "<class 'pandas.core.frame.DataFrame'>\n",
      "RangeIndex: 10 entries, 0 to 9\n",
      "Data columns (total 4 columns):\n",
      " #   Column        Non-Null Count  Dtype \n",
      "---  ------        --------------  ----- \n",
      " 0   Territorio    10 non-null     int64 \n",
      " 1   Pedidos_uni   10 non-null     int64 \n",
      " 2   Valor_total   10 non-null     object\n",
      " 3   Media_compra  10 non-null     object\n",
      "dtypes: int64(2), object(2)\n",
      "memory usage: 452.0+ bytes\n"
     ]
    },
    {
     "data": {
      "text/html": [
       "<div>\n",
       "<style scoped>\n",
       "    .dataframe tbody tr th:only-of-type {\n",
       "        vertical-align: middle;\n",
       "    }\n",
       "\n",
       "    .dataframe tbody tr th {\n",
       "        vertical-align: top;\n",
       "    }\n",
       "\n",
       "    .dataframe thead th {\n",
       "        text-align: right;\n",
       "    }\n",
       "</style>\n",
       "<table border=\"1\" class=\"dataframe\">\n",
       "  <thead>\n",
       "    <tr style=\"text-align: right;\">\n",
       "      <th></th>\n",
       "      <th>Territorio</th>\n",
       "      <th>Pedidos_uni</th>\n",
       "      <th>Valor_total</th>\n",
       "      <th>Media_compra</th>\n",
       "    </tr>\n",
       "  </thead>\n",
       "  <tbody>\n",
       "    <tr>\n",
       "      <th>0</th>\n",
       "      <td>9</td>\n",
       "      <td>6843</td>\n",
       "      <td>10655335,96</td>\n",
       "      <td>1557,1147</td>\n",
       "    </tr>\n",
       "    <tr>\n",
       "      <th>1</th>\n",
       "      <td>4</td>\n",
       "      <td>6224</td>\n",
       "      <td>24184609,6</td>\n",
       "      <td>3885,702</td>\n",
       "    </tr>\n",
       "    <tr>\n",
       "      <th>2</th>\n",
       "      <td>1</td>\n",
       "      <td>4594</td>\n",
       "      <td>16084942,55</td>\n",
       "      <td>3501,2935</td>\n",
       "    </tr>\n",
       "    <tr>\n",
       "      <th>3</th>\n",
       "      <td>6</td>\n",
       "      <td>4067</td>\n",
       "      <td>16355770,46</td>\n",
       "      <td>4021,5811</td>\n",
       "    </tr>\n",
       "    <tr>\n",
       "      <th>4</th>\n",
       "      <td>10</td>\n",
       "      <td>3219</td>\n",
       "      <td>7670721,036</td>\n",
       "      <td>2382,9515</td>\n",
       "    </tr>\n",
       "  </tbody>\n",
       "</table>\n",
       "</div>"
      ],
      "text/plain": [
       "   Territorio  Pedidos_uni  Valor_total Media_compra\n",
       "0           9         6843  10655335,96    1557,1147\n",
       "1           4         6224   24184609,6     3885,702\n",
       "2           1         4594  16084942,55    3501,2935\n",
       "3           6         4067  16355770,46    4021,5811\n",
       "4          10         3219  7670721,036    2382,9515"
      ]
     },
     "execution_count": 1099,
     "metadata": {},
     "output_type": "execute_result"
    }
   ],
   "source": [
    "# 5.2 Visualização inicial dos dados\n",
    "\n",
    "df_prod.info()\n",
    "df_prod.duplicated().sum()\n",
    "df_prod.head()\n"
   ]
  },
  {
   "cell_type": "code",
   "execution_count": 1101,
   "id": "5dea91e0-af44-48fb-b400-a1945b25e889",
   "metadata": {},
   "outputs": [
    {
     "data": {
      "text/html": [
       "<div>\n",
       "<style scoped>\n",
       "    .dataframe tbody tr th:only-of-type {\n",
       "        vertical-align: middle;\n",
       "    }\n",
       "\n",
       "    .dataframe tbody tr th {\n",
       "        vertical-align: top;\n",
       "    }\n",
       "\n",
       "    .dataframe thead th {\n",
       "        text-align: right;\n",
       "    }\n",
       "</style>\n",
       "<table border=\"1\" class=\"dataframe\">\n",
       "  <thead>\n",
       "    <tr style=\"text-align: right;\">\n",
       "      <th></th>\n",
       "      <th>Territorio</th>\n",
       "      <th>Pedidos_uni</th>\n",
       "      <th>Valor_total</th>\n",
       "      <th>Media_compra</th>\n",
       "    </tr>\n",
       "  </thead>\n",
       "  <tbody>\n",
       "    <tr>\n",
       "      <th>0</th>\n",
       "      <td>9</td>\n",
       "      <td>6843</td>\n",
       "      <td>10,655,335.96</td>\n",
       "      <td>1,557.11</td>\n",
       "    </tr>\n",
       "    <tr>\n",
       "      <th>1</th>\n",
       "      <td>4</td>\n",
       "      <td>6224</td>\n",
       "      <td>24,184,609.60</td>\n",
       "      <td>3,885.70</td>\n",
       "    </tr>\n",
       "    <tr>\n",
       "      <th>2</th>\n",
       "      <td>1</td>\n",
       "      <td>4594</td>\n",
       "      <td>16,084,942.55</td>\n",
       "      <td>3,501.29</td>\n",
       "    </tr>\n",
       "    <tr>\n",
       "      <th>3</th>\n",
       "      <td>6</td>\n",
       "      <td>4067</td>\n",
       "      <td>16,355,770.46</td>\n",
       "      <td>4,021.58</td>\n",
       "    </tr>\n",
       "    <tr>\n",
       "      <th>4</th>\n",
       "      <td>10</td>\n",
       "      <td>3219</td>\n",
       "      <td>7,670,721.04</td>\n",
       "      <td>2,382.95</td>\n",
       "    </tr>\n",
       "    <tr>\n",
       "      <th>5</th>\n",
       "      <td>7</td>\n",
       "      <td>2672</td>\n",
       "      <td>7,251,555.65</td>\n",
       "      <td>2,713.91</td>\n",
       "    </tr>\n",
       "    <tr>\n",
       "      <th>6</th>\n",
       "      <td>8</td>\n",
       "      <td>2623</td>\n",
       "      <td>4,915,407.60</td>\n",
       "      <td>1,873.96</td>\n",
       "    </tr>\n",
       "    <tr>\n",
       "      <th>7</th>\n",
       "      <td>5</td>\n",
       "      <td>486</td>\n",
       "      <td>7,879,655.07</td>\n",
       "      <td>16,213.28</td>\n",
       "    </tr>\n",
       "    <tr>\n",
       "      <th>8</th>\n",
       "      <td>3</td>\n",
       "      <td>385</td>\n",
       "      <td>7,909,009.01</td>\n",
       "      <td>20,542.88</td>\n",
       "    </tr>\n",
       "    <tr>\n",
       "      <th>9</th>\n",
       "      <td>2</td>\n",
       "      <td>352</td>\n",
       "      <td>6,939,374.48</td>\n",
       "      <td>19,714.13</td>\n",
       "    </tr>\n",
       "  </tbody>\n",
       "</table>\n",
       "</div>"
      ],
      "text/plain": [
       "  Territorio  Pedidos_uni   Valor_total  Media_compra\n",
       "0          9         6843 10,655,335.96      1,557.11\n",
       "1          4         6224 24,184,609.60      3,885.70\n",
       "2          1         4594 16,084,942.55      3,501.29\n",
       "3          6         4067 16,355,770.46      4,021.58\n",
       "4         10         3219  7,670,721.04      2,382.95\n",
       "5          7         2672  7,251,555.65      2,713.91\n",
       "6          8         2623  4,915,407.60      1,873.96\n",
       "7          5          486  7,879,655.07     16,213.28\n",
       "8          3          385  7,909,009.01     20,542.88\n",
       "9          2          352  6,939,374.48     19,714.13"
      ]
     },
     "execution_count": 1101,
     "metadata": {},
     "output_type": "execute_result"
    }
   ],
   "source": [
    "# 5.3 Limpeza dos dados\n",
    "\n",
    "df_prod['Valor_total'] = df_prod['Valor_total'].str.replace(',','.',regex=False).astype(float)\n",
    "df_prod['Media_compra'] = df_prod['Media_compra'].str.replace(',','.',regex=False).astype(float)\n",
    "pd.set_option('display.float_format', '{:,.2f}'.format)\n",
    "df_prod['Territorio'] = df_prod['Territorio'].astype(str)\n",
    "df_prod"
   ]
  },
  {
   "cell_type": "code",
   "execution_count": 1239,
   "id": "40d2a15c-4df9-4b08-b25d-0d87a8564cee",
   "metadata": {},
   "outputs": [
    {
     "data": {
      "image/png": "[encoded data removed]",
      "text/plain": [
       "<Figure size 640x480 with 1 Axes>"
      ]
     },
     "metadata": {},
     "output_type": "display_data"
    }
   ],
   "source": [
    "#Identificação de outliers e análise da curva do número de pedidos\n",
    "skewness_uni = df_prod['Pedidos_uni'].skew()\n",
    "skewness_uni\n",
    "#A curva do gráfico se apresenta muito próxima do normal\n",
    "sns.boxplot(x=df_prod['Pedidos_uni'])\n",
    "plt.title('Outliers dos volumes de pedidos')\n",
    "plt.savefig('imagens/grafico_4.png', dpi=300, bbox_inches='tight')\n",
    "plt.show()\n",
    "#Não foram identificados outliers por meio do método IQR"
   ]
  },
  {
   "cell_type": "code",
   "execution_count": 1243,
   "id": "c3a02299-49c2-4936-8811-e8577d98a232",
   "metadata": {},
   "outputs": [
    {
     "name": "stdout",
     "output_type": "stream",
     "text": [
      "O valor de skewness é 1.3672780632071229\n"
     ]
    },
    {
     "data": {
      "image/png": "[encoded data removed]",
      "text/plain": [
       "<Figure size 640x480 with 1 Axes>"
      ]
     },
     "metadata": {},
     "output_type": "display_data"
    }
   ],
   "source": [
    "#Identificação de outliers e análise da curva do valor total comprado\n",
    "skewness_total = df_prod['Valor_total'].skew()\n",
    "print(f'O valor de skewness é {skewness_total}')\n",
    "#Curva apresenta assimetria positiva\n",
    "sns.boxplot(x=df_prod['Valor_total'])\n",
    "plt.title('Outliers dos valores totais')\n",
    "plt.savefig('imagens/grafico_5.png', dpi=300, bbox_inches='tight')\n",
    "plt.show()\n",
    "#Não foram identificados outliers por meio do método IQR"
   ]
  },
  {
   "cell_type": "code",
   "execution_count": 1247,
   "id": "c4105724-e2aa-411c-8551-2e2e7ab6348b",
   "metadata": {},
   "outputs": [
    {
     "name": "stdout",
     "output_type": "stream",
     "text": [
      "O valor de skewness é 1.0647053292369748\n"
     ]
    },
    {
     "data": {
      "image/png": "[encoded data removed]",
      "text/plain": [
       "<Figure size 640x480 with 1 Axes>"
      ]
     },
     "metadata": {},
     "output_type": "display_data"
    }
   ],
   "source": [
    "#Identificação de outliers e análise da curva do Ticket médio por região\n",
    "skewness_medio = df_prod['Media_compra'].skew()\n",
    "print(f'O valor de skewness é {skewness_medio}')\n",
    "#Curva apresenta assimetria positiva\n",
    "sns.boxplot(x=df_prod['Media_compra'])\n",
    "plt.title('Outliers do ticket médio por região')\n",
    "plt.savefig('imagens/grafico_6.png', dpi=300, bbox_inches='tight')\n",
    "plt.show()"
   ]
  },
  {
   "cell_type": "code",
   "execution_count": 1249,
   "id": "12e25dae-cb59-4bf3-9bf9-d4114ed5b4b7",
   "metadata": {},
   "outputs": [
    {
     "data": {
      "image/png": "[encoded data removed]",
      "text/plain": [
       "<Figure size 1000x600 with 1 Axes>"
      ]
     },
     "metadata": {},
     "output_type": "display_data"
    }
   ],
   "source": [
    "# 5.4 Análise e gráfico dos locais por volume de compras(Quantidade)\n",
    "\n",
    "df_graf = df_prod.copy()\n",
    "df_graf['Territorio'] = df_graf['Territorio'].astype(int)\n",
    "df_agrupado = df_graf.groupby('Territorio', as_index=True)['Pedidos_uni'].sum()\n",
    "\n",
    " #Gráfico\n",
    "plt.figure(figsize=(10,6))\n",
    "df_agrupado.plot(kind='barh', color='skyblue')\n",
    "plt.title('Total de pedidos por território')\n",
    "plt.ylabel('Territorio')\n",
    "plt.xlabel('Quantidade de pedidos feitos')\n",
    "plt.xticks(rotation=0)\n",
    "plt.grid(axis='y', linestyle='--', alpha=0.7)\n",
    "plt.tight_layout()\n",
    "plt.savefig('imagens/grafico_7.png', dpi=300, bbox_inches='tight')\n",
    "plt.show()\n"
   ]
  },
  {
   "cell_type": "code",
   "execution_count": 1251,
   "id": "aeb29f21-a1dc-46e0-971d-3fee11f90e9b",
   "metadata": {},
   "outputs": [
    {
     "data": {
      "image/png": "[encoded data removed]",
      "text/plain": [
       "<Figure size 1000x600 with 1 Axes>"
      ]
     },
     "metadata": {},
     "output_type": "display_data"
    }
   ],
   "source": [
    "# Analise do faturamento por territorio\n",
    "\n",
    "df_agrupados2 = df_graf.groupby('Territorio', as_index=True)['Valor_total'].sum()\n",
    "\n",
    "    #grafico\n",
    "plt.figure(figsize=(10,6))\n",
    "df_agrupados2.plot(kind='barh', color='darkblue')\n",
    "plt.title('Faturamento por território')\n",
    "plt.xlabel('Faturamento em US$')\n",
    "plt.ylabel('Território')\n",
    "plt.xticks(rotation=0)\n",
    "plt.grid(axis='y', linestyle='--', alpha=0.7)\n",
    "plt.tight_layout()\n",
    "plt.savefig('imagens/grafico_8.png', dpi=300, bbox_inches='tight')\n",
    "\n",
    "plt.show()\n",
    "\n"
   ]
  },
  {
   "cell_type": "code",
   "execution_count": 1253,
   "id": "99e931e0-4d71-40a1-a821-52b4d684eddf",
   "metadata": {},
   "outputs": [
    {
     "data": {
      "image/png": "[encoded data removed]",
      "text/plain": [
       "<Figure size 1000x600 with 1 Axes>"
      ]
     },
     "metadata": {},
     "output_type": "display_data"
    }
   ],
   "source": [
    "# Análise do ticket médio por região\n",
    "\n",
    "df_graf['porcentagem2'] = (df_graf['Media_compra'] / df_graf['Media_compra'].sum())*100\n",
    "df_agrupados3 = df_graf.groupby('Territorio',as_index=True)['Media_compra'].sum()\n",
    "\n",
    "    #grafico\n",
    "plt.figure(figsize=(10,6))\n",
    "df_agrupados3.plot(kind='bar', color='blue')\n",
    "plt.title('Ticket médio por território')\n",
    "plt.ylabel('Ticket Médio')\n",
    "plt.xlabel('Território')\n",
    "plt.xticks(rotation=0)\n",
    "plt.grid(axis='y', linestyle='--', alpha=0.7)\n",
    "plt.savefig('imagens/grafico_9.png', dpi=300, bbox_inches='tight')\n",
    "\n",
    "plt.show()\n"
   ]
  },
  {
   "cell_type": "code",
   "execution_count": 1114,
   "id": "e17f7cac-ead4-4dde-ba90-8b50a73be745",
   "metadata": {},
   "outputs": [],
   "source": [
    "#Análise\n",
    "\n",
    "#Podemos observar no primeiro gráfico que os territórios que apresentam os maiores volumes de pedidos são os território 9, 4 e 1.\n",
    "#Observamos também que os territórios que apresentam os menores volumes de pedidos são os territórios 5,3 e 2.\n",
    "#Quando analisa-se o segundo gráfico percebemos que apesar dos territórios 5,3 e 4 apresentarem um volume de pedidos baixo, seu faturamento se equivale aos outros territórios com exceção dos 4 principais\n",
    "#Porém quando visualizamos o último grafico relacionado ao ticket médio de cada região, as 3 regiões que antes apresentavam os menores volumes de pedidos, apresentam agora valores em ticket médio.\n",
    "#Isso pode ser explicado pela provavel compra de produtos com alto valor unitário.\n",
    "#Já os territórios 9 e 4, que apresentaram altíssimos volumes de compra, mostram-se com o ticket médio muito baixo, demonstrando possíevis clientes de volume\n",
    "\n",
    "#Insights\n",
    "#Os territórios 5,3 e 2 podem apresentar um possível mercado\"premium\" não explorado.\n",
    "#Atendimento personalizado, campanhas de marketing e ofertas exclusivas podem aumentar o volume de compras, mantendo a qualidade\n",
    "#Já nos territórios que apresentam maiores volumes de compras com baixas margens de lucro a utilização do metodo up-sell/cross-sell, pode ser bem util\n",
    "\n"
   ]
  },
  {
   "cell_type": "code",
   "execution_count": 1117,
   "id": "ab8a0818-8fb5-4400-8a1a-e4bf9b4eaf02",
   "metadata": {},
   "outputs": [],
   "source": [
    "# 7.Verificação do tempo médio de produção de cada produto\n",
    "\n",
    "#SELECT ProductID as Produto, AVG(DATEDIFF(DAY, StartDate, EndDate)) as Tempo_prod_medio_dias\n",
    "#FROM Production.WorkOrder\n",
    "#GROUP BY ProductID\n",
    "#ORDER BY AVG(DATEDIFF(DAY, StartDate, EndDate)) DESC\n"
   ]
  },
  {
   "cell_type": "code",
   "execution_count": 1119,
   "id": "e8609dc2-6cb5-40a8-8318-9a024d8aea6f",
   "metadata": {},
   "outputs": [],
   "source": [
    "#Leitura do documento\n",
    "df_tempo = pd.read_csv('prod_temp.txt', sep='\\t', engine= 'python')"
   ]
  },
  {
   "cell_type": "code",
   "execution_count": 1121,
   "id": "ff169b86-f20d-41bd-a858-1989547e885d",
   "metadata": {},
   "outputs": [
    {
     "name": "stdout",
     "output_type": "stream",
     "text": [
      "<class 'pandas.core.frame.DataFrame'>\n",
      "RangeIndex: 238 entries, 0 to 237\n",
      "Data columns (total 2 columns):\n",
      " #   Column                 Non-Null Count  Dtype\n",
      "---  ------                 --------------  -----\n",
      " 0   Produto                238 non-null    int64\n",
      " 1   Tempo_prod_medio_dias  238 non-null    int64\n",
      "dtypes: int64(2)\n",
      "memory usage: 3.8 KB\n"
     ]
    },
    {
     "data": {
      "text/html": [
       "<div>\n",
       "<style scoped>\n",
       "    .dataframe tbody tr th:only-of-type {\n",
       "        vertical-align: middle;\n",
       "    }\n",
       "\n",
       "    .dataframe tbody tr th {\n",
       "        vertical-align: top;\n",
       "    }\n",
       "\n",
       "    .dataframe thead th {\n",
       "        text-align: right;\n",
       "    }\n",
       "</style>\n",
       "<table border=\"1\" class=\"dataframe\">\n",
       "  <thead>\n",
       "    <tr style=\"text-align: right;\">\n",
       "      <th></th>\n",
       "      <th>Produto</th>\n",
       "      <th>Tempo_prod_medio_dias</th>\n",
       "    </tr>\n",
       "  </thead>\n",
       "  <tbody>\n",
       "    <tr>\n",
       "      <th>0</th>\n",
       "      <td>776</td>\n",
       "      <td>17</td>\n",
       "    </tr>\n",
       "    <tr>\n",
       "      <th>1</th>\n",
       "      <td>988</td>\n",
       "      <td>17</td>\n",
       "    </tr>\n",
       "    <tr>\n",
       "      <th>2</th>\n",
       "      <td>754</td>\n",
       "      <td>16</td>\n",
       "    </tr>\n",
       "    <tr>\n",
       "      <th>3</th>\n",
       "      <td>963</td>\n",
       "      <td>16</td>\n",
       "    </tr>\n",
       "    <tr>\n",
       "      <th>4</th>\n",
       "      <td>814</td>\n",
       "      <td>16</td>\n",
       "    </tr>\n",
       "    <tr>\n",
       "      <th>...</th>\n",
       "      <td>...</td>\n",
       "      <td>...</td>\n",
       "    </tr>\n",
       "    <tr>\n",
       "      <th>233</th>\n",
       "      <td>831</td>\n",
       "      <td>10</td>\n",
       "    </tr>\n",
       "    <tr>\n",
       "      <th>234</th>\n",
       "      <td>888</td>\n",
       "      <td>10</td>\n",
       "    </tr>\n",
       "    <tr>\n",
       "      <th>235</th>\n",
       "      <td>739</td>\n",
       "      <td>10</td>\n",
       "    </tr>\n",
       "    <tr>\n",
       "      <th>236</th>\n",
       "      <td>917</td>\n",
       "      <td>10</td>\n",
       "    </tr>\n",
       "    <tr>\n",
       "      <th>237</th>\n",
       "      <td>891</td>\n",
       "      <td>10</td>\n",
       "    </tr>\n",
       "  </tbody>\n",
       "</table>\n",
       "<p>238 rows × 2 columns</p>\n",
       "</div>"
      ],
      "text/plain": [
       "     Produto  Tempo_prod_medio_dias\n",
       "0        776                     17\n",
       "1        988                     17\n",
       "2        754                     16\n",
       "3        963                     16\n",
       "4        814                     16\n",
       "..       ...                    ...\n",
       "233      831                     10\n",
       "234      888                     10\n",
       "235      739                     10\n",
       "236      917                     10\n",
       "237      891                     10\n",
       "\n",
       "[238 rows x 2 columns]"
      ]
     },
     "execution_count": 1121,
     "metadata": {},
     "output_type": "execute_result"
    }
   ],
   "source": [
    "#Visualização e informações iniciais\n",
    "df_tempo.info()\n",
    "df_tempo"
   ]
  },
  {
   "cell_type": "code",
   "execution_count": 1123,
   "id": "a1eabfa3-30dd-4b81-b7f9-9151926138f0",
   "metadata": {},
   "outputs": [],
   "source": [
    "#Identificação de dados duplicados e formatação do nome da coluna\n",
    "df_tempo.duplicated().sum()\n",
    "df_tempo = df_tempo.rename(columns={'Tempo_prod_medio_dias': 'Tempo_medio'})"
   ]
  },
  {
   "cell_type": "code",
   "execution_count": 1255,
   "id": "8b268e61-23ec-4798-aa32-05e2440c3297",
   "metadata": {},
   "outputs": [
    {
     "name": "stdout",
     "output_type": "stream",
     "text": [
      "O Valor de skew é -0.44131763586778805\n",
      "O gráfico apresenta leve assimetria negativa\n"
     ]
    },
    {
     "data": {
      "image/png": "[encoded data removed]",
      "text/plain": [
       "<Figure size 640x480 with 1 Axes>"
      ]
     },
     "metadata": {},
     "output_type": "display_data"
    }
   ],
   "source": [
    "#Identificação de outliers e análise da curva do tempo de produção médio(em dias)\n",
    "skew_tempo = df_tempo['Tempo_medio'].skew()\n",
    "print(f'O Valor de skew é {skew_tempo}')\n",
    "print('O gráfico apresenta leve assimetria negativa')\n",
    "#Gráfico outlier\n",
    "sns.boxplot(x=df_tempo['Tempo_medio'])\n",
    "plt.title('Identificação de outliers na coluna de tempo de produção médio dos produtos em dias')\n",
    "plt.xlabel('Tempo médio em dias')\n",
    "plt.savefig('imagens/grafico_10.png', dpi=300, bbox_inches='tight')\n",
    "\n",
    "plt.show()"
   ]
  },
  {
   "cell_type": "code",
   "execution_count": 1127,
   "id": "5d66ae74-7bb2-49e3-9f79-a80408efeb5d",
   "metadata": {},
   "outputs": [
    {
     "name": "stdout",
     "output_type": "stream",
     "text": [
      "A média geral do tempo de produção é de 13.25 dias\n",
      "O coeficiente de variação do tempo de produção foi de 19.25%\n"
     ]
    },
    {
     "data": {
      "text/plain": [
       "count   238.00\n",
       "mean     13.25\n",
       "std       2.55\n",
       "min      10.00\n",
       "25%      10.00\n",
       "50%      15.00\n",
       "75%      15.00\n",
       "max      17.00\n",
       "Name: Tempo_medio, dtype: float64"
      ]
     },
     "execution_count": 1127,
     "metadata": {},
     "output_type": "execute_result"
    }
   ],
   "source": [
    "#Análise estatística\n",
    "Media_geral = df_tempo['Tempo_medio'].mean()\n",
    "DPadrao = df_tempo['Tempo_medio'].std()\n",
    "CV = (DPadrao / Media_geral)*100\n",
    "print(f'A média geral do tempo de produção é de {Media_geral:.2f} dias')\n",
    "print(f'O coeficiente de variação do tempo de produção foi de {CV:.2f}%')\n",
    "df_tempo['Tempo_medio'].describe()"
   ]
  },
  {
   "cell_type": "code",
   "execution_count": 1129,
   "id": "48bf4100-1254-4a0c-bd12-d1ce74c94d73",
   "metadata": {},
   "outputs": [],
   "source": [
    "#Análise descritiva e diagnóstica\n",
    "#Inicialmente são 238 tipos de produtos produzidos\n",
    "#Os produtos apresentam um tempo máximo médio de produção de 17 dias e mínimo médio de 10 dias\n",
    "#O tempo médio geral de produção é de 13 dias e 6 horas\n",
    "#Os dados não apresentaram valores discrepantes\n",
    "#Foi detectado um coeficiente de variação do tempo médio de 19,25%\n",
    "#O que significa que o processo de produção apresenta uma eficiencia razoável, mantendo uma certa previsibilidade e planejamento operacional"
   ]
  },
  {
   "cell_type": "code",
   "execution_count": null,
   "id": "9fc89a6c-cefd-463b-9695-e68e22199e4e",
   "metadata": {},
   "outputs": [],
   "source": []
  },
  {
   "cell_type": "code",
   "execution_count": 1132,
   "id": "a71b7916-8c4d-43e4-ba28-23dc7321bb8e",
   "metadata": {},
   "outputs": [],
   "source": [
    "# 8.Verificação dos 10 produtos mais fabricados\n",
    "\n",
    "#SELECT TOP 10 ProductID as Produto, SUM(DISTINCT(OrderQty)) as Quant_Fabric\n",
    "#FROM Production.WorkOrder\n",
    "#GROUP BY ProductID\n",
    "#ORDER BY SUM(DISTINCT(OrderQty)) desc\n"
   ]
  },
  {
   "cell_type": "code",
   "execution_count": 1146,
   "id": "18a626e8-6e52-4722-9dd5-db385835af42",
   "metadata": {},
   "outputs": [],
   "source": [
    "#Leitura e formatação basica do arquivo\n",
    "df_quant = pd.read_csv('quant_fabric.txt', sep='\\t', engine='python')\n"
   ]
  },
  {
   "cell_type": "code",
   "execution_count": 1148,
   "id": "6bf2f367-568b-445d-83c2-72cd09673a53",
   "metadata": {},
   "outputs": [
    {
     "name": "stdout",
     "output_type": "stream",
     "text": [
      "<class 'pandas.core.frame.DataFrame'>\n",
      "RangeIndex: 238 entries, 0 to 237\n",
      "Data columns (total 2 columns):\n",
      " #   Column        Non-Null Count  Dtype\n",
      "---  ------        --------------  -----\n",
      " 0   Produto       238 non-null    int64\n",
      " 1   Quant_Fabric  238 non-null    int64\n",
      "dtypes: int64(2)\n",
      "memory usage: 3.8 KB\n"
     ]
    },
    {
     "data": {
      "text/html": [
       "<div>\n",
       "<style scoped>\n",
       "    .dataframe tbody tr th:only-of-type {\n",
       "        vertical-align: middle;\n",
       "    }\n",
       "\n",
       "    .dataframe tbody tr th {\n",
       "        vertical-align: top;\n",
       "    }\n",
       "\n",
       "    .dataframe thead th {\n",
       "        text-align: right;\n",
       "    }\n",
       "</style>\n",
       "<table border=\"1\" class=\"dataframe\">\n",
       "  <thead>\n",
       "    <tr style=\"text-align: right;\">\n",
       "      <th></th>\n",
       "      <th>Produto</th>\n",
       "      <th>Quant_Fabric</th>\n",
       "    </tr>\n",
       "  </thead>\n",
       "  <tbody>\n",
       "    <tr>\n",
       "      <th>0</th>\n",
       "      <td>3</td>\n",
       "      <td>760270</td>\n",
       "    </tr>\n",
       "    <tr>\n",
       "      <th>1</th>\n",
       "      <td>532</td>\n",
       "      <td>415640</td>\n",
       "    </tr>\n",
       "    <tr>\n",
       "      <th>2</th>\n",
       "      <td>331</td>\n",
       "      <td>209088</td>\n",
       "    </tr>\n",
       "    <tr>\n",
       "      <th>3</th>\n",
       "      <td>316</td>\n",
       "      <td>209088</td>\n",
       "    </tr>\n",
       "    <tr>\n",
       "      <th>4</th>\n",
       "      <td>324</td>\n",
       "      <td>207820</td>\n",
       "    </tr>\n",
       "    <tr>\n",
       "      <th>...</th>\n",
       "      <td>...</td>\n",
       "      <td>...</td>\n",
       "    </tr>\n",
       "    <tr>\n",
       "      <th>233</th>\n",
       "      <td>978</td>\n",
       "      <td>156</td>\n",
       "    </tr>\n",
       "    <tr>\n",
       "      <th>234</th>\n",
       "      <td>751</td>\n",
       "      <td>151</td>\n",
       "    </tr>\n",
       "    <tr>\n",
       "      <th>235</th>\n",
       "      <td>943</td>\n",
       "      <td>150</td>\n",
       "    </tr>\n",
       "    <tr>\n",
       "      <th>236</th>\n",
       "      <td>989</td>\n",
       "      <td>143</td>\n",
       "    </tr>\n",
       "    <tr>\n",
       "      <th>237</th>\n",
       "      <td>757</td>\n",
       "      <td>104</td>\n",
       "    </tr>\n",
       "  </tbody>\n",
       "</table>\n",
       "<p>238 rows × 2 columns</p>\n",
       "</div>"
      ],
      "text/plain": [
       "     Produto  Quant_Fabric\n",
       "0          3        760270\n",
       "1        532        415640\n",
       "2        331        209088\n",
       "3        316        209088\n",
       "4        324        207820\n",
       "..       ...           ...\n",
       "233      978           156\n",
       "234      751           151\n",
       "235      943           150\n",
       "236      989           143\n",
       "237      757           104\n",
       "\n",
       "[238 rows x 2 columns]"
      ]
     },
     "execution_count": 1148,
     "metadata": {},
     "output_type": "execute_result"
    }
   ],
   "source": [
    "#Informações basicas sobre os dados\n",
    "df_quant.info()\n",
    "df_quant"
   ]
  },
  {
   "cell_type": "code",
   "execution_count": 1152,
   "id": "3ddc9552-7f44-4fef-b0ad-d7831b9051bf",
   "metadata": {},
   "outputs": [],
   "source": [
    "#Limpeza e padronização dos dados\n",
    "df_quant['Quant_Fabric'] = df_quant['Quant_Fabric'].replace(',','', regex=True)\n",
    "df_quant['Quant_Fabric'] = pd.to_numeric(df_quant['Quant_Fabric'], errors='coerce')"
   ]
  },
  {
   "cell_type": "code",
   "execution_count": 1156,
   "id": "3efb534c-0538-4398-adb9-ef0698ca00cc",
   "metadata": {},
   "outputs": [
    {
     "data": {
      "text/plain": [
       "count       238.00\n",
       "mean     16,197.36\n",
       "std      63,282.34\n",
       "min         104.00\n",
       "25%         498.00\n",
       "50%         910.00\n",
       "75%       4,641.25\n",
       "max     760,270.00\n",
       "Name: fabricados, dtype: float64"
      ]
     },
     "execution_count": 1156,
     "metadata": {},
     "output_type": "execute_result"
    }
   ],
   "source": [
    "#Identificação de dados duplicados\n",
    "df_quant.duplicated().sum()\n",
    "df_quant = df_quant.rename(columns={'Quant_Fabric': 'fabricados'})\n",
    "df_quant['fabricados'].describe()"
   ]
  },
  {
   "cell_type": "code",
   "execution_count": 1257,
   "id": "595c56f0-ffb7-4881-b852-aa26f9905531",
   "metadata": {},
   "outputs": [
    {
     "name": "stdout",
     "output_type": "stream",
     "text": [
      "A curva possui um skewness de 8.441272099536224\n"
     ]
    },
    {
     "data": {
      "image/png": "[encoded data removed]",
      "text/plain": [
       "<Figure size 640x480 with 1 Axes>"
      ]
     },
     "metadata": {},
     "output_type": "display_data"
    }
   ],
   "source": [
    "#Análise de curvatura do gráfico e indentificação de Outliers\n",
    "skew_quant = df_quant['fabricados'].skew()\n",
    "print(f'A curva possui um skewness de {skew_quant}')\n",
    "#A skewness dos dados nos dá a informação de que a curva de distribuição da quantidade produzida de produtos possui assimetria positiva grande\n",
    "df_quant_log = np.log1p(df_quant['fabricados'])\n",
    "#O gráfico teve que ser reformulado para escala logarítmica para facilitar a visualização dos dados\n",
    "sns.boxplot(x=df_quant_log)\n",
    "plt.title('Identificação de Outliers dos volumes fabricados')\n",
    "plt.xlabel('Quantidade de produtos fabricados')\n",
    "plt.savefig('imagens/grafico_11.png', dpi=300, bbox_inches='tight')\n",
    "\n",
    "plt.show()"
   ]
  },
  {
   "cell_type": "code",
   "execution_count": 1160,
   "id": "1c0ae03c-521e-460d-9a4d-4cc3068d19e6",
   "metadata": {},
   "outputs": [
    {
     "name": "stdout",
     "output_type": "stream",
     "text": [
      "Limite inferior é 0\n",
      "Limite superior é 10856.125\n",
      "O limite superior do Boxplot é 10856.125 e o limite inferior do gráfico é 0\n"
     ]
    }
   ],
   "source": [
    "#Calculo de IQR e os limites do boxplot\n",
    "Q1 = df_quant['fabricados'].quantile(0.25)\n",
    "Q3 = df_quant['fabricados'].quantile(0.75)\n",
    "IQR = Q3 - Q1\n",
    "limite_inf = max(0, Q1 - 1.5 * IQR)\n",
    "limite_sup = Q3 + 1.5 * IQR\n",
    "print(f'Limite inferior é {limite_inf}')\n",
    "print(f'Limite superior é {limite_sup}')\n",
    "print(f'O limite superior do Boxplot é {limite_sup} e o limite inferior do gráfico é {limite_inf}')"
   ]
  },
  {
   "cell_type": "code",
   "execution_count": 1162,
   "id": "de61de8d-7d0a-455b-86ab-ca8f7e46e41c",
   "metadata": {},
   "outputs": [
    {
     "name": "stdout",
     "output_type": "stream",
     "text": [
      "    Produto  fabricados\n",
      "0         3      760270\n",
      "1       532      415640\n",
      "2       331      209088\n",
      "3       316      209088\n",
      "4       324      207820\n",
      "5       401      106868\n",
      "6       350      104544\n",
      "7       531      104544\n",
      "8       534      103910\n",
      "9       399      103910\n",
      "10      327      103910\n",
      "11      533      103910\n",
      "12      329       81210\n",
      "13      529       80771\n",
      "14      398       80771\n",
      "15      945       77465\n",
      "16      894       76936\n",
      "17      328       53176\n",
      "18      806       52466\n",
      "19      950       51884\n",
      "20      400       51511\n",
      "21      804       40050\n",
      "22      802       38938\n",
      "23      994       36355\n",
      "24      330       26130\n",
      "25      803       22730\n",
      "26      995       22617\n",
      "27      826       20664\n",
      "28      811       20135\n",
      "29      517       19922\n",
      "30      818       19922\n",
      "31      996       18235\n",
      "32      824       14543\n",
      "33      810       14347\n",
      "34      816       13964\n",
      "35      516       13931\n",
      "36      829       12789\n",
      "37      821       12789\n",
      "38      819       12336\n",
      "39      949       12248\n",
      "40      805       11971\n",
      "41      827       11901\n",
      "42      518       11847\n",
      "43      812       11847\n",
      "44      951       11570\n",
      "45      807       11123\n"
     ]
    }
   ],
   "source": [
    "#Outliers\n",
    "outliers = df_quant[(df_quant['fabricados'] < limite_inf) | (df_quant['fabricados'] > limite_sup)]\n",
    "print(outliers)\n",
    "df_sem_outliers = df_quant[(df_quant['fabricados'] <= limite_sup)]"
   ]
  },
  {
   "cell_type": "code",
   "execution_count": 582,
   "id": "da00c966-4f7d-49ce-9b92-20e2e302280b",
   "metadata": {},
   "outputs": [
    {
     "data": {
      "text/html": [
       "<div>\n",
       "<style scoped>\n",
       "    .dataframe tbody tr th:only-of-type {\n",
       "        vertical-align: middle;\n",
       "    }\n",
       "\n",
       "    .dataframe tbody tr th {\n",
       "        vertical-align: top;\n",
       "    }\n",
       "\n",
       "    .dataframe thead th {\n",
       "        text-align: right;\n",
       "    }\n",
       "</style>\n",
       "<table border=\"1\" class=\"dataframe\">\n",
       "  <thead>\n",
       "    <tr style=\"text-align: right;\">\n",
       "      <th></th>\n",
       "      <th>Produto</th>\n",
       "      <th>fabricados</th>\n",
       "    </tr>\n",
       "  </thead>\n",
       "  <tbody>\n",
       "    <tr>\n",
       "      <th>46</th>\n",
       "      <td>813</td>\n",
       "      <td>8299</td>\n",
       "    </tr>\n",
       "    <tr>\n",
       "      <th>47</th>\n",
       "      <td>820</td>\n",
       "      <td>8224</td>\n",
       "    </tr>\n",
       "    <tr>\n",
       "      <th>48</th>\n",
       "      <td>828</td>\n",
       "      <td>7915</td>\n",
       "    </tr>\n",
       "    <tr>\n",
       "      <th>49</th>\n",
       "      <td>519</td>\n",
       "      <td>7823</td>\n",
       "    </tr>\n",
       "    <tr>\n",
       "      <th>50</th>\n",
       "      <td>947</td>\n",
       "      <td>7745</td>\n",
       "    </tr>\n",
       "    <tr>\n",
       "      <th>...</th>\n",
       "      <td>...</td>\n",
       "      <td>...</td>\n",
       "    </tr>\n",
       "    <tr>\n",
       "      <th>233</th>\n",
       "      <td>978</td>\n",
       "      <td>156</td>\n",
       "    </tr>\n",
       "    <tr>\n",
       "      <th>234</th>\n",
       "      <td>751</td>\n",
       "      <td>151</td>\n",
       "    </tr>\n",
       "    <tr>\n",
       "      <th>235</th>\n",
       "      <td>943</td>\n",
       "      <td>150</td>\n",
       "    </tr>\n",
       "    <tr>\n",
       "      <th>236</th>\n",
       "      <td>989</td>\n",
       "      <td>143</td>\n",
       "    </tr>\n",
       "    <tr>\n",
       "      <th>237</th>\n",
       "      <td>757</td>\n",
       "      <td>104</td>\n",
       "    </tr>\n",
       "  </tbody>\n",
       "</table>\n",
       "<p>192 rows × 2 columns</p>\n",
       "</div>"
      ],
      "text/plain": [
       "     Produto  fabricados\n",
       "46       813        8299\n",
       "47       820        8224\n",
       "48       828        7915\n",
       "49       519        7823\n",
       "50       947        7745\n",
       "..       ...         ...\n",
       "233      978         156\n",
       "234      751         151\n",
       "235      943         150\n",
       "236      989         143\n",
       "237      757         104\n",
       "\n",
       "[192 rows x 2 columns]"
      ]
     },
     "execution_count": 582,
     "metadata": {},
     "output_type": "execute_result"
    }
   ],
   "source": [
    "df_sem_outliers"
   ]
  },
  {
   "cell_type": "code",
   "execution_count": 584,
   "id": "a5dd8a7e-6832-48bf-a70c-e15c5dbfa53c",
   "metadata": {},
   "outputs": [
    {
     "name": "stdout",
     "output_type": "stream",
     "text": [
      "Serão 12 classes de frequência\n"
     ]
    }
   ],
   "source": [
    "#Determinação do número de classes(bins)\n",
    "n = len(df_sem_outliers['fabricados'])\n",
    "k = 2 * (n ** (1/3))\n",
    "print(f'Serão {math.ceil(k)} classes de frequência')"
   ]
  },
  {
   "cell_type": "code",
   "execution_count": 1164,
   "id": "7aa7f492-6de5-447c-9c82-46d15a70bec4",
   "metadata": {},
   "outputs": [
    {
     "name": "stdout",
     "output_type": "stream",
     "text": [
      "Determinou-se que a amplitude das classes será de 710.2619554129315\n"
     ]
    }
   ],
   "source": [
    "#Determinação da amplitude das classes\n",
    "#Determinando a amplitude total \n",
    "at = (df_sem_outliers['fabricados'].max()) - (df_sem_outliers['fabricados'].min())\n",
    "#Determinando a amplitude da classe\n",
    "h = at / k\n",
    "print(f'Determinou-se que a amplitude das classes será de {h}')"
   ]
  },
  {
   "cell_type": "code",
   "execution_count": 1166,
   "id": "b31d7904-bd4c-472f-9349-be82e0e50753",
   "metadata": {},
   "outputs": [
    {
     "data": {
      "text/plain": [
       "count     192.00\n",
       "mean    1,314.46\n",
       "std     1,605.07\n",
       "min       104.00\n",
       "25%       416.00\n",
       "50%       742.00\n",
       "75%     1,404.00\n",
       "max     8,299.00\n",
       "Name: fabricados, dtype: float64"
      ]
     },
     "execution_count": 1166,
     "metadata": {},
     "output_type": "execute_result"
    }
   ],
   "source": [
    "df_sem_outliers['fabricados'].describe()"
   ]
  },
  {
   "cell_type": "code",
   "execution_count": 1168,
   "id": "fb923f7a-3ba8-4b87-9bd8-ce744bf4be8c",
   "metadata": {},
   "outputs": [],
   "source": [
    "#Criação da tabela em classes de frequência\n",
    "df_sem_outliers = df_sem_outliers.copy()\n",
    "bins = np.arange(df_sem_outliers['fabricados'].min(), (df_sem_outliers['fabricados'].max() + h), h)\n",
    "df_sem_outliers['classes'] = pd.cut(df_sem_outliers['fabricados'], bins=bins)"
   ]
  },
  {
   "cell_type": "code",
   "execution_count": 1259,
   "id": "945efc4a-9f6a-44a5-baab-c17b9f855a22",
   "metadata": {},
   "outputs": [
    {
     "data": {
      "image/png": "[encoded data removed]",
      "text/plain": [
       "<Figure size 800x800 with 1 Axes>"
      ]
     },
     "metadata": {},
     "output_type": "display_data"
    }
   ],
   "source": [
    "#Visualização das classes de frequência relativa %\n",
    "classes = df_sem_outliers['classes'].value_counts().sort_index()\n",
    "f_relativa = classes / classes.sum()\n",
    "\n",
    "# Labels (as classes em formato string)\n",
    "labels = classes.index.astype(str)\n",
    "\n",
    "# Valores (frequência relativa em %)\n",
    "sizes = (f_relativa.values * 100).round(2)\n",
    "\n",
    "# Plot do gráfico de pizza\n",
    "plt.figure(figsize=(8, 8))\n",
    "plt.pie(sizes, labels=labels, autopct='%1.1f%%', startangle=140, textprops={'fontsize': 9})\n",
    "plt.title('Distribuição Relativa por Classe de Fabricados')\n",
    "plt.axis('equal')  # Deixa o círculo redondo\n",
    "plt.tight_layout()\n",
    "plt.savefig('imagens/grafico_12.png', dpi=300, bbox_inches='tight')\n",
    "\n",
    "plt.show()"
   ]
  },
  {
   "cell_type": "code",
   "execution_count": 1172,
   "id": "08b29cf3-1480-442e-b958-4131cac70f44",
   "metadata": {},
   "outputs": [
    {
     "data": {
      "text/html": [
       "<div>\n",
       "<style scoped>\n",
       "    .dataframe tbody tr th:only-of-type {\n",
       "        vertical-align: middle;\n",
       "    }\n",
       "\n",
       "    .dataframe tbody tr th {\n",
       "        vertical-align: top;\n",
       "    }\n",
       "\n",
       "    .dataframe thead th {\n",
       "        text-align: right;\n",
       "    }\n",
       "</style>\n",
       "<table border=\"1\" class=\"dataframe\">\n",
       "  <thead>\n",
       "    <tr style=\"text-align: right;\">\n",
       "      <th></th>\n",
       "      <th>Produto</th>\n",
       "      <th>fabricados</th>\n",
       "      <th>classes</th>\n",
       "    </tr>\n",
       "  </thead>\n",
       "  <tbody>\n",
       "    <tr>\n",
       "      <th>46</th>\n",
       "      <td>813</td>\n",
       "      <td>8299</td>\n",
       "      <td>(7916.882, 8627.143]</td>\n",
       "    </tr>\n",
       "    <tr>\n",
       "      <th>47</th>\n",
       "      <td>820</td>\n",
       "      <td>8224</td>\n",
       "      <td>(7916.882, 8627.143]</td>\n",
       "    </tr>\n",
       "    <tr>\n",
       "      <th>48</th>\n",
       "      <td>828</td>\n",
       "      <td>7915</td>\n",
       "      <td>(7206.62, 7916.882]</td>\n",
       "    </tr>\n",
       "    <tr>\n",
       "      <th>49</th>\n",
       "      <td>519</td>\n",
       "      <td>7823</td>\n",
       "      <td>(7206.62, 7916.882]</td>\n",
       "    </tr>\n",
       "    <tr>\n",
       "      <th>50</th>\n",
       "      <td>947</td>\n",
       "      <td>7745</td>\n",
       "      <td>(7206.62, 7916.882]</td>\n",
       "    </tr>\n",
       "    <tr>\n",
       "      <th>51</th>\n",
       "      <td>808</td>\n",
       "      <td>5637</td>\n",
       "      <td>(5075.834, 5786.096]</td>\n",
       "    </tr>\n",
       "    <tr>\n",
       "      <th>52</th>\n",
       "      <td>815</td>\n",
       "      <td>5467</td>\n",
       "      <td>(5075.834, 5786.096]</td>\n",
       "    </tr>\n",
       "    <tr>\n",
       "      <th>53</th>\n",
       "      <td>946</td>\n",
       "      <td>5269</td>\n",
       "      <td>(5075.834, 5786.096]</td>\n",
       "    </tr>\n",
       "    <tr>\n",
       "      <th>54</th>\n",
       "      <td>825</td>\n",
       "      <td>5268</td>\n",
       "      <td>(5075.834, 5786.096]</td>\n",
       "    </tr>\n",
       "    <tr>\n",
       "      <th>55</th>\n",
       "      <td>520</td>\n",
       "      <td>5213</td>\n",
       "      <td>(5075.834, 5786.096]</td>\n",
       "    </tr>\n",
       "  </tbody>\n",
       "</table>\n",
       "</div>"
      ],
      "text/plain": [
       "    Produto  fabricados               classes\n",
       "46      813        8299  (7916.882, 8627.143]\n",
       "47      820        8224  (7916.882, 8627.143]\n",
       "48      828        7915   (7206.62, 7916.882]\n",
       "49      519        7823   (7206.62, 7916.882]\n",
       "50      947        7745   (7206.62, 7916.882]\n",
       "51      808        5637  (5075.834, 5786.096]\n",
       "52      815        5467  (5075.834, 5786.096]\n",
       "53      946        5269  (5075.834, 5786.096]\n",
       "54      825        5268  (5075.834, 5786.096]\n",
       "55      520        5213  (5075.834, 5786.096]"
      ]
     },
     "execution_count": 1172,
     "metadata": {},
     "output_type": "execute_result"
    }
   ],
   "source": [
    "#Top 10 Produtos mais fabricados sem outliers\n",
    "df_sem_outliers.sort_values('fabricados', ascending=False).head(10)"
   ]
  },
  {
   "cell_type": "code",
   "execution_count": 1174,
   "id": "6e64dbce-4dec-44d4-904e-6564bf366dd3",
   "metadata": {},
   "outputs": [],
   "source": [
    "#Análise e insights\n",
    "#Os dados apresentaram uma grande assimetria positiva com vários outliers presentes na cauda à direita\n",
    "#Isso nos informa sobre a maioria dos produtos produzidos estarem em faixas baixas, apesar de existirem valores extremos que distorcem a média.\n",
    "#Essa assimetria exagerada pode indicar problemas de inconsistências na produção, gargalos ou até produtos chave para a empresa.\n",
    "#Mais de 56% dos produtos fabricados possuem um volume de fabricação entre 104 e 814 produtos, seguidos de 19% entre 814 e 1524 produtos.Estando entre os menores volumes de produção da empresa.\n",
    "#Esse dado pode indicar um portfolio de produtos sem padronização ou muito diverso, o que reduz a eficiência produtiva a partir da criação de várias linhas de produção para pequenas quantidades de produtos.\n",
    "#Também pode indicar a ociosidade de recursos incluindo de pessoal, maquinario e/ou tempo\n",
    "#Para os produtos que apresentarem baixa saída, uma solução seria interromper a produção desses produtos específicos ou reformular suas versões.\n"
   ]
  },
  {
   "cell_type": "code",
   "execution_count": null,
   "id": "9b002afd-57a0-4901-9c2c-43eb4a691b4a",
   "metadata": {},
   "outputs": [],
   "source": []
  },
  {
   "cell_type": "code",
   "execution_count": 1177,
   "id": "63990b40-95fb-4d18-9bdc-cb4ffa6e101f",
   "metadata": {},
   "outputs": [],
   "source": [
    "# 9.Principais motivos de falhas na produção\n",
    "\n",
    "#SELECT SUM(W.ScrappedQTY) as Prod_Descartados, S.Name as Motivo_Falha\n",
    "#FROM Production.WorkOrder W\n",
    "#JOIN Production.ScrapReason S on S.ScrapReasonID = W.ScrapReasonID\n",
    "#GROUP BY S.Name\n",
    "#ORDER BY SUM(W.ScrappedQTY) DESC"
   ]
  },
  {
   "cell_type": "code",
   "execution_count": 1179,
   "id": "81f707ff-3556-47c3-8394-fbe2da0dc7c2",
   "metadata": {},
   "outputs": [],
   "source": [
    "#Leitura do arquivo\n",
    "df_falhas = pd.read_csv('falhas.txt', sep='\\t')"
   ]
  },
  {
   "cell_type": "code",
   "execution_count": 1181,
   "id": "c3799fb4-99ae-458a-8456-512bf00f5fe8",
   "metadata": {},
   "outputs": [
    {
     "name": "stdout",
     "output_type": "stream",
     "text": [
      "<class 'pandas.core.frame.DataFrame'>\n",
      "RangeIndex: 16 entries, 0 to 15\n",
      "Data columns (total 2 columns):\n",
      " #   Column            Non-Null Count  Dtype \n",
      "---  ------            --------------  ----- \n",
      " 0   Prod_Descartados  16 non-null     int64 \n",
      " 1   Motivo_Falha      16 non-null     object\n",
      "dtypes: int64(1), object(1)\n",
      "memory usage: 388.0+ bytes\n"
     ]
    },
    {
     "data": {
      "text/html": [
       "<div>\n",
       "<style scoped>\n",
       "    .dataframe tbody tr th:only-of-type {\n",
       "        vertical-align: middle;\n",
       "    }\n",
       "\n",
       "    .dataframe tbody tr th {\n",
       "        vertical-align: top;\n",
       "    }\n",
       "\n",
       "    .dataframe thead th {\n",
       "        text-align: right;\n",
       "    }\n",
       "</style>\n",
       "<table border=\"1\" class=\"dataframe\">\n",
       "  <thead>\n",
       "    <tr style=\"text-align: right;\">\n",
       "      <th></th>\n",
       "      <th>Prod_Descartados</th>\n",
       "      <th>Motivo_Falha</th>\n",
       "    </tr>\n",
       "  </thead>\n",
       "  <tbody>\n",
       "    <tr>\n",
       "      <th>0</th>\n",
       "      <td>1271</td>\n",
       "      <td>Paint_process_failed</td>\n",
       "    </tr>\n",
       "    <tr>\n",
       "      <th>1</th>\n",
       "      <td>981</td>\n",
       "      <td>Trim_length_too_long</td>\n",
       "    </tr>\n",
       "    <tr>\n",
       "      <th>2</th>\n",
       "      <td>876</td>\n",
       "      <td>Thermoform_temperature_too_low</td>\n",
       "    </tr>\n",
       "    <tr>\n",
       "      <th>3</th>\n",
       "      <td>826</td>\n",
       "      <td>Drill_size_too_small</td>\n",
       "    </tr>\n",
       "    <tr>\n",
       "      <th>4</th>\n",
       "      <td>804</td>\n",
       "      <td>Wheel_misaligned</td>\n",
       "    </tr>\n",
       "    <tr>\n",
       "      <th>5</th>\n",
       "      <td>763</td>\n",
       "      <td>Trim_length_too_short</td>\n",
       "    </tr>\n",
       "    <tr>\n",
       "      <th>6</th>\n",
       "      <td>762</td>\n",
       "      <td>Drill_pattern_incorrect</td>\n",
       "    </tr>\n",
       "    <tr>\n",
       "      <th>7</th>\n",
       "      <td>743</td>\n",
       "      <td>Primer_process_failed</td>\n",
       "    </tr>\n",
       "    <tr>\n",
       "      <th>8</th>\n",
       "      <td>692</td>\n",
       "      <td>Seat_assembly_not_as_ordered</td>\n",
       "    </tr>\n",
       "    <tr>\n",
       "      <th>9</th>\n",
       "      <td>575</td>\n",
       "      <td>Gouge_in_metal</td>\n",
       "    </tr>\n",
       "    <tr>\n",
       "      <th>10</th>\n",
       "      <td>506</td>\n",
       "      <td>Drill_size_too_large</td>\n",
       "    </tr>\n",
       "    <tr>\n",
       "      <th>11</th>\n",
       "      <td>491</td>\n",
       "      <td>Color_incorrect</td>\n",
       "    </tr>\n",
       "    <tr>\n",
       "      <th>12</th>\n",
       "      <td>459</td>\n",
       "      <td>Brake_assembly_not_as_ordered</td>\n",
       "    </tr>\n",
       "    <tr>\n",
       "      <th>13</th>\n",
       "      <td>394</td>\n",
       "      <td>Thermoform_temperature_too_high</td>\n",
       "    </tr>\n",
       "    <tr>\n",
       "      <th>14</th>\n",
       "      <td>306</td>\n",
       "      <td>Stress_test_failed</td>\n",
       "    </tr>\n",
       "    <tr>\n",
       "      <th>15</th>\n",
       "      <td>202</td>\n",
       "      <td>Handling_damage</td>\n",
       "    </tr>\n",
       "  </tbody>\n",
       "</table>\n",
       "</div>"
      ],
      "text/plain": [
       "    Prod_Descartados                     Motivo_Falha\n",
       "0               1271             Paint_process_failed\n",
       "1                981             Trim_length_too_long\n",
       "2                876   Thermoform_temperature_too_low\n",
       "3                826             Drill_size_too_small\n",
       "4                804                 Wheel_misaligned\n",
       "5                763            Trim_length_too_short\n",
       "6                762          Drill_pattern_incorrect\n",
       "7                743            Primer_process_failed\n",
       "8                692     Seat_assembly_not_as_ordered\n",
       "9                575                   Gouge_in_metal\n",
       "10               506             Drill_size_too_large\n",
       "11               491                  Color_incorrect\n",
       "12               459    Brake_assembly_not_as_ordered\n",
       "13               394  Thermoform_temperature_too_high\n",
       "14               306               Stress_test_failed\n",
       "15               202                  Handling_damage"
      ]
     },
     "execution_count": 1181,
     "metadata": {},
     "output_type": "execute_result"
    }
   ],
   "source": [
    "#Informações iniciais sobre os dados\n",
    "df_falhas.info()\n",
    "df_falhas"
   ]
  },
  {
   "cell_type": "code",
   "execution_count": 1183,
   "id": "ecb80ba0-4034-4f34-9530-268c7b13ca51",
   "metadata": {},
   "outputs": [
    {
     "data": {
      "text/plain": [
       "0"
      ]
     },
     "execution_count": 1183,
     "metadata": {},
     "output_type": "execute_result"
    }
   ],
   "source": [
    "#Identificação de duplicatas\n",
    "df_falhas.duplicated().sum()"
   ]
  },
  {
   "cell_type": "code",
   "execution_count": 1185,
   "id": "06f25665-56cb-4a7e-b0db-f2782d53635e",
   "metadata": {},
   "outputs": [],
   "source": [
    "#Formatação e limpeza dos dados\n",
    "df_falhas['Motivo_Falha'] = df_falhas['Motivo_Falha'].str.lower().str.normalize('NFKD')\n",
    "df_falhas['Motivo_Falha'] = df_falhas['Motivo_Falha'].str.replace('_', ' ')\n"
   ]
  },
  {
   "cell_type": "code",
   "execution_count": 1187,
   "id": "b277a4f5-2a30-4c1e-a79b-0264d35fa64d",
   "metadata": {},
   "outputs": [
    {
     "data": {
      "text/html": [
       "<div>\n",
       "<style scoped>\n",
       "    .dataframe tbody tr th:only-of-type {\n",
       "        vertical-align: middle;\n",
       "    }\n",
       "\n",
       "    .dataframe tbody tr th {\n",
       "        vertical-align: top;\n",
       "    }\n",
       "\n",
       "    .dataframe thead th {\n",
       "        text-align: right;\n",
       "    }\n",
       "</style>\n",
       "<table border=\"1\" class=\"dataframe\">\n",
       "  <thead>\n",
       "    <tr style=\"text-align: right;\">\n",
       "      <th></th>\n",
       "      <th>Prod_Descartados</th>\n",
       "      <th>Motivo_Falha</th>\n",
       "    </tr>\n",
       "  </thead>\n",
       "  <tbody>\n",
       "    <tr>\n",
       "      <th>0</th>\n",
       "      <td>1271</td>\n",
       "      <td>paint process failed</td>\n",
       "    </tr>\n",
       "    <tr>\n",
       "      <th>1</th>\n",
       "      <td>981</td>\n",
       "      <td>trim length too long</td>\n",
       "    </tr>\n",
       "    <tr>\n",
       "      <th>2</th>\n",
       "      <td>876</td>\n",
       "      <td>thermoform temperature too low</td>\n",
       "    </tr>\n",
       "    <tr>\n",
       "      <th>3</th>\n",
       "      <td>826</td>\n",
       "      <td>drill size too small</td>\n",
       "    </tr>\n",
       "    <tr>\n",
       "      <th>4</th>\n",
       "      <td>804</td>\n",
       "      <td>wheel misaligned</td>\n",
       "    </tr>\n",
       "    <tr>\n",
       "      <th>5</th>\n",
       "      <td>763</td>\n",
       "      <td>trim length too short</td>\n",
       "    </tr>\n",
       "    <tr>\n",
       "      <th>6</th>\n",
       "      <td>762</td>\n",
       "      <td>drill pattern incorrect</td>\n",
       "    </tr>\n",
       "    <tr>\n",
       "      <th>7</th>\n",
       "      <td>743</td>\n",
       "      <td>primer process failed</td>\n",
       "    </tr>\n",
       "    <tr>\n",
       "      <th>8</th>\n",
       "      <td>692</td>\n",
       "      <td>seat assembly not as ordered</td>\n",
       "    </tr>\n",
       "    <tr>\n",
       "      <th>9</th>\n",
       "      <td>575</td>\n",
       "      <td>gouge in metal</td>\n",
       "    </tr>\n",
       "    <tr>\n",
       "      <th>10</th>\n",
       "      <td>506</td>\n",
       "      <td>drill size too large</td>\n",
       "    </tr>\n",
       "    <tr>\n",
       "      <th>11</th>\n",
       "      <td>491</td>\n",
       "      <td>color incorrect</td>\n",
       "    </tr>\n",
       "    <tr>\n",
       "      <th>12</th>\n",
       "      <td>459</td>\n",
       "      <td>brake assembly not as ordered</td>\n",
       "    </tr>\n",
       "    <tr>\n",
       "      <th>13</th>\n",
       "      <td>394</td>\n",
       "      <td>thermoform temperature too high</td>\n",
       "    </tr>\n",
       "    <tr>\n",
       "      <th>14</th>\n",
       "      <td>306</td>\n",
       "      <td>stress test failed</td>\n",
       "    </tr>\n",
       "    <tr>\n",
       "      <th>15</th>\n",
       "      <td>202</td>\n",
       "      <td>handling damage</td>\n",
       "    </tr>\n",
       "  </tbody>\n",
       "</table>\n",
       "</div>"
      ],
      "text/plain": [
       "    Prod_Descartados                     Motivo_Falha\n",
       "0               1271             paint process failed\n",
       "1                981             trim length too long\n",
       "2                876   thermoform temperature too low\n",
       "3                826             drill size too small\n",
       "4                804                 wheel misaligned\n",
       "5                763            trim length too short\n",
       "6                762          drill pattern incorrect\n",
       "7                743            primer process failed\n",
       "8                692     seat assembly not as ordered\n",
       "9                575                   gouge in metal\n",
       "10               506             drill size too large\n",
       "11               491                  color incorrect\n",
       "12               459    brake assembly not as ordered\n",
       "13               394  thermoform temperature too high\n",
       "14               306               stress test failed\n",
       "15               202                  handling damage"
      ]
     },
     "execution_count": 1187,
     "metadata": {},
     "output_type": "execute_result"
    }
   ],
   "source": [
    "df_falhas"
   ]
  },
  {
   "cell_type": "code",
   "execution_count": 1261,
   "id": "bce0b144-64b3-4238-96a8-4c1e940f51f0",
   "metadata": {},
   "outputs": [
    {
     "name": "stdout",
     "output_type": "stream",
     "text": [
      "O gráfico apresenta uma skew de 0.32841622338980425\n"
     ]
    },
    {
     "data": {
      "image/png": "[encoded data removed]",
      "text/plain": [
       "<Figure size 640x480 with 1 Axes>"
      ]
     },
     "metadata": {},
     "output_type": "display_data"
    }
   ],
   "source": [
    "#Identificação de outliers e análise da assimetria\n",
    "skew_falhas = df_falhas['Prod_Descartados'].skew()\n",
    "print(f'O gráfico apresenta uma skew de {skew_falhas}')\n",
    "#O grafico apresentou um desvio muito proximo à normal\n",
    "sns.boxplot(x=df_falhas['Prod_Descartados'])\n",
    "plt.title('Identificação de Outliers em produtos descartados')\n",
    "plt.savefig('imagens/grafico_13.png', dpi=300, bbox_inches='tight')\n",
    "\n",
    "plt.show()"
   ]
  },
  {
   "cell_type": "code",
   "execution_count": 1263,
   "id": "011bf4b4-07e3-4361-8657-a08f03372dce",
   "metadata": {},
   "outputs": [
    {
     "data": {
      "image/png": "[encoded data removed]",
      "text/plain": [
       "<Figure size 1200x600 with 1 Axes>"
      ]
     },
     "metadata": {},
     "output_type": "display_data"
    }
   ],
   "source": [
    "#análise gráfica\n",
    "plt.figure(figsize=(12, 6))\n",
    "plt.barh(df_falhas['Motivo_Falha'], df_falhas['Prod_Descartados'], color='steelblue')\n",
    "plt.xlabel('Produtos Descartados')\n",
    "plt.title('Quantidade de Produtos Descartados por Motivo de Falha')\n",
    "plt.gca().invert_yaxis()\n",
    "plt.tight_layout()\n",
    "plt.savefig('imagens/grafico_14.png', dpi=300, bbox_inches='tight')\n",
    "\n",
    "plt.show()"
   ]
  },
  {
   "cell_type": "code",
   "execution_count": 1193,
   "id": "d4c37148-1125-4670-bef4-fb4070e1a6ec",
   "metadata": {},
   "outputs": [],
   "source": [
    "# A falha que gera o maior número de descartes para a empresa é a falha durante o processo de pintura\n",
    "#Há a possibilidade de ser um processo muito comum em vários tipos de produtos durante a produção\n",
    "#Mas também há a possibilidade de algum erro mecânico,humano ou na tinta utilizada.\n",
    "#Soluções possiveis para esses problemas seriam realizar testes com as tintas utilizadas, melhorar a capacitação dos funcionários e realizar a manutenção frequênte da maquinaria a fim de reduzir pordas futuras."
   ]
  },
  {
   "cell_type": "code",
   "execution_count": null,
   "id": "e4bb0dfa-f541-40d4-897d-6e5b6c94c406",
   "metadata": {},
   "outputs": [],
   "source": []
  },
  {
   "cell_type": "code",
   "execution_count": 1196,
   "id": "947ca3bc-55c3-46ae-b5c8-3858afbdfada",
   "metadata": {},
   "outputs": [],
   "source": [
    "# 10.Os 10 Principais produtos que mais apresentam falhas na produção\n",
    "\n",
    "#SELECT TOP 15 P.Name as Nome_prod, SUM(S.ScrappedQty) as Quant_Falha_fabri\n",
    "#FROM Production.Product P\n",
    "#JOIN Production.WorkOrder S on S.ProductID = P.ProductID\n",
    "#GROUP BY P.Name\n",
    "#ORDER BY SUM(S.ScrappedQty) DESC"
   ]
  },
  {
   "cell_type": "code",
   "execution_count": 1198,
   "id": "1fdb27ed-e773-46e8-aa96-a21405c72331",
   "metadata": {},
   "outputs": [
    {
     "data": {
      "text/html": [
       "<div>\n",
       "<style scoped>\n",
       "    .dataframe tbody tr th:only-of-type {\n",
       "        vertical-align: middle;\n",
       "    }\n",
       "\n",
       "    .dataframe tbody tr th {\n",
       "        vertical-align: top;\n",
       "    }\n",
       "\n",
       "    .dataframe thead th {\n",
       "        text-align: right;\n",
       "    }\n",
       "</style>\n",
       "<table border=\"1\" class=\"dataframe\">\n",
       "  <thead>\n",
       "    <tr style=\"text-align: right;\">\n",
       "      <th></th>\n",
       "      <th>Nome_prod</th>\n",
       "      <th>Quant_Falha_fabri</th>\n",
       "    </tr>\n",
       "  </thead>\n",
       "  <tbody>\n",
       "    <tr>\n",
       "      <th>0</th>\n",
       "      <td>Fork_End</td>\n",
       "      <td>1374</td>\n",
       "    </tr>\n",
       "    <tr>\n",
       "      <th>1</th>\n",
       "      <td>Seat_Stays</td>\n",
       "      <td>1154</td>\n",
       "    </tr>\n",
       "    <tr>\n",
       "      <th>2</th>\n",
       "      <td>BB_Ball_Bearing</td>\n",
       "      <td>1031</td>\n",
       "    </tr>\n",
       "    <tr>\n",
       "      <th>3</th>\n",
       "      <td>Blade</td>\n",
       "      <td>736</td>\n",
       "    </tr>\n",
       "    <tr>\n",
       "      <th>4</th>\n",
       "      <td>Fork_Crown</td>\n",
       "      <td>692</td>\n",
       "    </tr>\n",
       "    <tr>\n",
       "      <th>...</th>\n",
       "      <td>...</td>\n",
       "      <td>...</td>\n",
       "    </tr>\n",
       "    <tr>\n",
       "      <th>233</th>\n",
       "      <td>LL_Touring_Frame_-_Blue,_50</td>\n",
       "      <td>0</td>\n",
       "    </tr>\n",
       "    <tr>\n",
       "      <th>234</th>\n",
       "      <td>LL_Touring_Frame_-_Blue,_58</td>\n",
       "      <td>0</td>\n",
       "    </tr>\n",
       "    <tr>\n",
       "      <th>235</th>\n",
       "      <td>LL_Touring_Frame_-_Blue,_62</td>\n",
       "      <td>0</td>\n",
       "    </tr>\n",
       "    <tr>\n",
       "      <th>236</th>\n",
       "      <td>ML_Mountain_Frame_-_Black,_38</td>\n",
       "      <td>0</td>\n",
       "    </tr>\n",
       "    <tr>\n",
       "      <th>237</th>\n",
       "      <td>LL_Road_Frame_-_Black,_62</td>\n",
       "      <td>0</td>\n",
       "    </tr>\n",
       "  </tbody>\n",
       "</table>\n",
       "<p>238 rows × 2 columns</p>\n",
       "</div>"
      ],
      "text/plain": [
       "                         Nome_prod  Quant_Falha_fabri\n",
       "0                         Fork_End               1374\n",
       "1                       Seat_Stays               1154\n",
       "2                  BB_Ball_Bearing               1031\n",
       "3                            Blade                736\n",
       "4                       Fork_Crown                692\n",
       "..                             ...                ...\n",
       "233    LL_Touring_Frame_-_Blue,_50                  0\n",
       "234    LL_Touring_Frame_-_Blue,_58                  0\n",
       "235    LL_Touring_Frame_-_Blue,_62                  0\n",
       "236  ML_Mountain_Frame_-_Black,_38                  0\n",
       "237      LL_Road_Frame_-_Black,_62                  0\n",
       "\n",
       "[238 rows x 2 columns]"
      ]
     },
     "execution_count": 1198,
     "metadata": {},
     "output_type": "execute_result"
    }
   ],
   "source": [
    "#Leitura do arquivo em .txt\n",
    "df_pfalhas = pd.read_csv('prod_falhas.txt', sep='\\t')\n",
    "df_pfalhas"
   ]
  },
  {
   "cell_type": "code",
   "execution_count": 1200,
   "id": "6e53a20c-733e-4807-b0d4-ccd57080a7ce",
   "metadata": {},
   "outputs": [
    {
     "name": "stdout",
     "output_type": "stream",
     "text": [
      "<class 'pandas.core.frame.DataFrame'>\n",
      "RangeIndex: 238 entries, 0 to 237\n",
      "Data columns (total 2 columns):\n",
      " #   Column             Non-Null Count  Dtype \n",
      "---  ------             --------------  ----- \n",
      " 0   Nome_prod          238 non-null    object\n",
      " 1   Quant_Falha_fabri  238 non-null    int64 \n",
      "dtypes: int64(1), object(1)\n",
      "memory usage: 3.8+ KB\n"
     ]
    },
    {
     "data": {
      "text/html": [
       "<div>\n",
       "<style scoped>\n",
       "    .dataframe tbody tr th:only-of-type {\n",
       "        vertical-align: middle;\n",
       "    }\n",
       "\n",
       "    .dataframe tbody tr th {\n",
       "        vertical-align: top;\n",
       "    }\n",
       "\n",
       "    .dataframe thead th {\n",
       "        text-align: right;\n",
       "    }\n",
       "</style>\n",
       "<table border=\"1\" class=\"dataframe\">\n",
       "  <thead>\n",
       "    <tr style=\"text-align: right;\">\n",
       "      <th></th>\n",
       "      <th>Nome_prod</th>\n",
       "      <th>Quant_Falha_fabri</th>\n",
       "    </tr>\n",
       "  </thead>\n",
       "  <tbody>\n",
       "    <tr>\n",
       "      <th>0</th>\n",
       "      <td>Fork_End</td>\n",
       "      <td>1374</td>\n",
       "    </tr>\n",
       "    <tr>\n",
       "      <th>1</th>\n",
       "      <td>Seat_Stays</td>\n",
       "      <td>1154</td>\n",
       "    </tr>\n",
       "    <tr>\n",
       "      <th>2</th>\n",
       "      <td>BB_Ball_Bearing</td>\n",
       "      <td>1031</td>\n",
       "    </tr>\n",
       "    <tr>\n",
       "      <th>3</th>\n",
       "      <td>Blade</td>\n",
       "      <td>736</td>\n",
       "    </tr>\n",
       "    <tr>\n",
       "      <th>4</th>\n",
       "      <td>Fork_Crown</td>\n",
       "      <td>692</td>\n",
       "    </tr>\n",
       "    <tr>\n",
       "      <th>...</th>\n",
       "      <td>...</td>\n",
       "      <td>...</td>\n",
       "    </tr>\n",
       "    <tr>\n",
       "      <th>233</th>\n",
       "      <td>LL_Touring_Frame_-_Blue,_50</td>\n",
       "      <td>0</td>\n",
       "    </tr>\n",
       "    <tr>\n",
       "      <th>234</th>\n",
       "      <td>LL_Touring_Frame_-_Blue,_58</td>\n",
       "      <td>0</td>\n",
       "    </tr>\n",
       "    <tr>\n",
       "      <th>235</th>\n",
       "      <td>LL_Touring_Frame_-_Blue,_62</td>\n",
       "      <td>0</td>\n",
       "    </tr>\n",
       "    <tr>\n",
       "      <th>236</th>\n",
       "      <td>ML_Mountain_Frame_-_Black,_38</td>\n",
       "      <td>0</td>\n",
       "    </tr>\n",
       "    <tr>\n",
       "      <th>237</th>\n",
       "      <td>LL_Road_Frame_-_Black,_62</td>\n",
       "      <td>0</td>\n",
       "    </tr>\n",
       "  </tbody>\n",
       "</table>\n",
       "<p>238 rows × 2 columns</p>\n",
       "</div>"
      ],
      "text/plain": [
       "                         Nome_prod  Quant_Falha_fabri\n",
       "0                         Fork_End               1374\n",
       "1                       Seat_Stays               1154\n",
       "2                  BB_Ball_Bearing               1031\n",
       "3                            Blade                736\n",
       "4                       Fork_Crown                692\n",
       "..                             ...                ...\n",
       "233    LL_Touring_Frame_-_Blue,_50                  0\n",
       "234    LL_Touring_Frame_-_Blue,_58                  0\n",
       "235    LL_Touring_Frame_-_Blue,_62                  0\n",
       "236  ML_Mountain_Frame_-_Black,_38                  0\n",
       "237      LL_Road_Frame_-_Black,_62                  0\n",
       "\n",
       "[238 rows x 2 columns]"
      ]
     },
     "execution_count": 1200,
     "metadata": {},
     "output_type": "execute_result"
    }
   ],
   "source": [
    "#Informações basicas\n",
    "df_pfalhas.info()\n",
    "df_pfalhas"
   ]
  },
  {
   "cell_type": "code",
   "execution_count": 1202,
   "id": "ca4db905-bdba-479d-8356-9261f83e012b",
   "metadata": {},
   "outputs": [
    {
     "data": {
      "text/plain": [
       "0"
      ]
     },
     "execution_count": 1202,
     "metadata": {},
     "output_type": "execute_result"
    }
   ],
   "source": [
    "#Identifucação de Dados duplicados\n",
    "df_pfalhas.duplicated().sum()"
   ]
  },
  {
   "cell_type": "code",
   "execution_count": 1204,
   "id": "a05599b5-837d-42eb-ba23-a0b9280e7c48",
   "metadata": {},
   "outputs": [
    {
     "data": {
      "text/plain": [
       "Nome_prod            0\n",
       "Quant_Falha_fabri    0\n",
       "dtype: int64"
      ]
     },
     "execution_count": 1204,
     "metadata": {},
     "output_type": "execute_result"
    }
   ],
   "source": [
    "#Identificação de valores nulos\n",
    "df_pfalhas.isnull().sum()"
   ]
  },
  {
   "cell_type": "code",
   "execution_count": 1206,
   "id": "7d7b13f7-21cb-4902-ba84-1dfd1c141e53",
   "metadata": {},
   "outputs": [
    {
     "data": {
      "text/plain": [
       "Nome_prod            0\n",
       "Quant_Falha_fabri    0\n",
       "dtype: int64"
      ]
     },
     "execution_count": 1206,
     "metadata": {},
     "output_type": "execute_result"
    }
   ],
   "source": [
    "#Identificação de valores faltantes\n",
    "df_pfalhas.isna().sum()"
   ]
  },
  {
   "cell_type": "code",
   "execution_count": 1208,
   "id": "9ccc9b59-be6e-42ff-b27e-8c9a6a87acef",
   "metadata": {},
   "outputs": [],
   "source": [
    "#Limpeza e formatação\n",
    "df_pfalhas.rename(columns={'Nome_prod' : 'Nome do produto'}, inplace=True)\n",
    "df_pfalhas.rename(columns={'Quant_Falha_fabri' : 'Numero de falhas'}, inplace=True)\n",
    "df_pfalhas['Nome do produto'] = df_pfalhas['Nome do produto'].str.lower().str.normalize('NFKD').str.encode('ascii', errors='ignore').str.decode('utf-8')\n",
    "df_pfalhas['Nome do produto'] = df_pfalhas['Nome do produto'].replace(r'[^a-zA-Z0-9]', ' ', regex=True)\n",
    "df_pfalhas['Nome do produto'] = df_pfalhas['Nome do produto'].replace(r'[\\s+]', ' ', regex=True)\n",
    "df_pfalhas['Numero de falhas'] = df_pfalhas['Numero de falhas'].replace(r'[\\s+]', ' ', regex=True)"
   ]
  },
  {
   "cell_type": "code",
   "execution_count": 1265,
   "id": "6c3a35fa-3a8a-4439-9e5d-73253d21b4d7",
   "metadata": {},
   "outputs": [
    {
     "name": "stdout",
     "output_type": "stream",
     "text": [
      "Os dados apresentam uma skew de 5.575699494646272\n"
     ]
    },
    {
     "data": {
      "image/png": "[encoded data removed]",
      "text/plain": [
       "<Figure size 640x480 with 1 Axes>"
      ]
     },
     "metadata": {},
     "output_type": "display_data"
    }
   ],
   "source": [
    "#Identificação de outliers e analise de assimetria\n",
    "skew_pfalhas = df_pfalhas['Numero de falhas'].skew()\n",
    "print(f'Os dados apresentam uma skew de {skew_pfalhas}')\n",
    "df_pfalhas_log = np.log1p(df_pfalhas['Numero de falhas'])\n",
    "sns.boxplot(x=df_pfalhas_log)\n",
    "plt.title('Identificação de Outliers em escala logaritmica')\n",
    "plt.savefig('imagens/grafico_15.png', dpi=300, bbox_inches='tight')\n",
    "\n",
    "plt.show()"
   ]
  },
  {
   "cell_type": "code",
   "execution_count": 1212,
   "id": "bc30aa08-6015-4ad2-a3e0-1c49dec1062f",
   "metadata": {},
   "outputs": [
    {
     "data": {
      "text/html": [
       "<div>\n",
       "<style scoped>\n",
       "    .dataframe tbody tr th:only-of-type {\n",
       "        vertical-align: middle;\n",
       "    }\n",
       "\n",
       "    .dataframe tbody tr th {\n",
       "        vertical-align: top;\n",
       "    }\n",
       "\n",
       "    .dataframe thead th {\n",
       "        text-align: right;\n",
       "    }\n",
       "</style>\n",
       "<table border=\"1\" class=\"dataframe\">\n",
       "  <thead>\n",
       "    <tr style=\"text-align: right;\">\n",
       "      <th></th>\n",
       "      <th>Numero de falhas</th>\n",
       "    </tr>\n",
       "  </thead>\n",
       "  <tbody>\n",
       "    <tr>\n",
       "      <th>count</th>\n",
       "      <td>238.00</td>\n",
       "    </tr>\n",
       "    <tr>\n",
       "      <th>mean</th>\n",
       "      <td>44.75</td>\n",
       "    </tr>\n",
       "    <tr>\n",
       "      <th>std</th>\n",
       "      <td>163.28</td>\n",
       "    </tr>\n",
       "    <tr>\n",
       "      <th>min</th>\n",
       "      <td>0.00</td>\n",
       "    </tr>\n",
       "    <tr>\n",
       "      <th>25%</th>\n",
       "      <td>0.00</td>\n",
       "    </tr>\n",
       "    <tr>\n",
       "      <th>50%</th>\n",
       "      <td>2.00</td>\n",
       "    </tr>\n",
       "    <tr>\n",
       "      <th>75%</th>\n",
       "      <td>8.75</td>\n",
       "    </tr>\n",
       "    <tr>\n",
       "      <th>max</th>\n",
       "      <td>1,374.00</td>\n",
       "    </tr>\n",
       "  </tbody>\n",
       "</table>\n",
       "</div>"
      ],
      "text/plain": [
       "       Numero de falhas\n",
       "count            238.00\n",
       "mean              44.75\n",
       "std              163.28\n",
       "min                0.00\n",
       "25%                0.00\n",
       "50%                2.00\n",
       "75%                8.75\n",
       "max            1,374.00"
      ]
     },
     "execution_count": 1212,
     "metadata": {},
     "output_type": "execute_result"
    }
   ],
   "source": [
    "df_pfalhas.describe()"
   ]
  },
  {
   "cell_type": "code",
   "execution_count": 1214,
   "id": "da4fad26-60b7-4f59-81b8-bf65e4b6f423",
   "metadata": {},
   "outputs": [
    {
     "data": {
      "text/html": [
       "<div>\n",
       "<style scoped>\n",
       "    .dataframe tbody tr th:only-of-type {\n",
       "        vertical-align: middle;\n",
       "    }\n",
       "\n",
       "    .dataframe tbody tr th {\n",
       "        vertical-align: top;\n",
       "    }\n",
       "\n",
       "    .dataframe thead th {\n",
       "        text-align: right;\n",
       "    }\n",
       "</style>\n",
       "<table border=\"1\" class=\"dataframe\">\n",
       "  <thead>\n",
       "    <tr style=\"text-align: right;\">\n",
       "      <th></th>\n",
       "      <th>Nome do produto</th>\n",
       "      <th>Numero de falhas</th>\n",
       "    </tr>\n",
       "  </thead>\n",
       "  <tbody>\n",
       "    <tr>\n",
       "      <th>0</th>\n",
       "      <td>fork end</td>\n",
       "      <td>1374</td>\n",
       "    </tr>\n",
       "    <tr>\n",
       "      <th>1</th>\n",
       "      <td>seat stays</td>\n",
       "      <td>1154</td>\n",
       "    </tr>\n",
       "    <tr>\n",
       "      <th>2</th>\n",
       "      <td>bb ball bearing</td>\n",
       "      <td>1031</td>\n",
       "    </tr>\n",
       "    <tr>\n",
       "      <th>3</th>\n",
       "      <td>blade</td>\n",
       "      <td>736</td>\n",
       "    </tr>\n",
       "    <tr>\n",
       "      <th>4</th>\n",
       "      <td>fork crown</td>\n",
       "      <td>692</td>\n",
       "    </tr>\n",
       "    <tr>\n",
       "      <th>5</th>\n",
       "      <td>chain stays</td>\n",
       "      <td>585</td>\n",
       "    </tr>\n",
       "    <tr>\n",
       "      <th>6</th>\n",
       "      <td>down tube</td>\n",
       "      <td>571</td>\n",
       "    </tr>\n",
       "    <tr>\n",
       "      <th>7</th>\n",
       "      <td>stem</td>\n",
       "      <td>422</td>\n",
       "    </tr>\n",
       "    <tr>\n",
       "      <th>8</th>\n",
       "      <td>head tube</td>\n",
       "      <td>348</td>\n",
       "    </tr>\n",
       "    <tr>\n",
       "      <th>9</th>\n",
       "      <td>seat tube</td>\n",
       "      <td>342</td>\n",
       "    </tr>\n",
       "    <tr>\n",
       "      <th>10</th>\n",
       "      <td>steerer</td>\n",
       "      <td>264</td>\n",
       "    </tr>\n",
       "    <tr>\n",
       "      <th>11</th>\n",
       "      <td>top tube</td>\n",
       "      <td>247</td>\n",
       "    </tr>\n",
       "    <tr>\n",
       "      <th>12</th>\n",
       "      <td>ml crankset</td>\n",
       "      <td>225</td>\n",
       "    </tr>\n",
       "    <tr>\n",
       "      <th>13</th>\n",
       "      <td>hl hub</td>\n",
       "      <td>178</td>\n",
       "    </tr>\n",
       "    <tr>\n",
       "      <th>14</th>\n",
       "      <td>front derailleur</td>\n",
       "      <td>174</td>\n",
       "    </tr>\n",
       "    <tr>\n",
       "      <th>15</th>\n",
       "      <td>ml headset</td>\n",
       "      <td>154</td>\n",
       "    </tr>\n",
       "    <tr>\n",
       "      <th>16</th>\n",
       "      <td>mountain end caps</td>\n",
       "      <td>143</td>\n",
       "    </tr>\n",
       "    <tr>\n",
       "      <th>17</th>\n",
       "      <td>ll fork</td>\n",
       "      <td>140</td>\n",
       "    </tr>\n",
       "    <tr>\n",
       "      <th>18</th>\n",
       "      <td>touring end caps</td>\n",
       "      <td>123</td>\n",
       "    </tr>\n",
       "    <tr>\n",
       "      <th>19</th>\n",
       "      <td>ll bottom bracket</td>\n",
       "      <td>107</td>\n",
       "    </tr>\n",
       "    <tr>\n",
       "      <th>20</th>\n",
       "      <td>rear derailleur</td>\n",
       "      <td>105</td>\n",
       "    </tr>\n",
       "    <tr>\n",
       "      <th>21</th>\n",
       "      <td>ml mountain front wheel</td>\n",
       "      <td>100</td>\n",
       "    </tr>\n",
       "    <tr>\n",
       "      <th>22</th>\n",
       "      <td>touring rear wheel</td>\n",
       "      <td>87</td>\n",
       "    </tr>\n",
       "    <tr>\n",
       "      <th>23</th>\n",
       "      <td>handlebar tube</td>\n",
       "      <td>84</td>\n",
       "    </tr>\n",
       "    <tr>\n",
       "      <th>24</th>\n",
       "      <td>hl bottom bracket</td>\n",
       "      <td>75</td>\n",
       "    </tr>\n",
       "    <tr>\n",
       "      <th>25</th>\n",
       "      <td>ll road handlebars</td>\n",
       "      <td>63</td>\n",
       "    </tr>\n",
       "    <tr>\n",
       "      <th>26</th>\n",
       "      <td>ll road seat assembly</td>\n",
       "      <td>62</td>\n",
       "    </tr>\n",
       "    <tr>\n",
       "      <th>27</th>\n",
       "      <td>ml road rear wheel</td>\n",
       "      <td>58</td>\n",
       "    </tr>\n",
       "    <tr>\n",
       "      <th>28</th>\n",
       "      <td>ll road rear wheel</td>\n",
       "      <td>47</td>\n",
       "    </tr>\n",
       "    <tr>\n",
       "      <th>29</th>\n",
       "      <td>touring front wheel</td>\n",
       "      <td>47</td>\n",
       "    </tr>\n",
       "    <tr>\n",
       "      <th>30</th>\n",
       "      <td>hl mountain handlebars</td>\n",
       "      <td>46</td>\n",
       "    </tr>\n",
       "    <tr>\n",
       "      <th>31</th>\n",
       "      <td>road end caps</td>\n",
       "      <td>43</td>\n",
       "    </tr>\n",
       "    <tr>\n",
       "      <th>32</th>\n",
       "      <td>hl headset</td>\n",
       "      <td>41</td>\n",
       "    </tr>\n",
       "    <tr>\n",
       "      <th>33</th>\n",
       "      <td>hl fork</td>\n",
       "      <td>38</td>\n",
       "    </tr>\n",
       "    <tr>\n",
       "      <th>34</th>\n",
       "      <td>ll headset</td>\n",
       "      <td>35</td>\n",
       "    </tr>\n",
       "    <tr>\n",
       "      <th>35</th>\n",
       "      <td>ll hub</td>\n",
       "      <td>32</td>\n",
       "    </tr>\n",
       "    <tr>\n",
       "      <th>36</th>\n",
       "      <td>hl touring seat assembly</td>\n",
       "      <td>25</td>\n",
       "    </tr>\n",
       "    <tr>\n",
       "      <th>37</th>\n",
       "      <td>ll road front wheel</td>\n",
       "      <td>25</td>\n",
       "    </tr>\n",
       "    <tr>\n",
       "      <th>38</th>\n",
       "      <td>hl road rear wheel</td>\n",
       "      <td>24</td>\n",
       "    </tr>\n",
       "    <tr>\n",
       "      <th>39</th>\n",
       "      <td>ml road handlebars</td>\n",
       "      <td>23</td>\n",
       "    </tr>\n",
       "    <tr>\n",
       "      <th>40</th>\n",
       "      <td>hl road front wheel</td>\n",
       "      <td>22</td>\n",
       "    </tr>\n",
       "  </tbody>\n",
       "</table>\n",
       "</div>"
      ],
      "text/plain": [
       "             Nome do produto  Numero de falhas\n",
       "0                   fork end              1374\n",
       "1                 seat stays              1154\n",
       "2            bb ball bearing              1031\n",
       "3                      blade               736\n",
       "4                 fork crown               692\n",
       "5                chain stays               585\n",
       "6                  down tube               571\n",
       "7                       stem               422\n",
       "8                  head tube               348\n",
       "9                  seat tube               342\n",
       "10                   steerer               264\n",
       "11                  top tube               247\n",
       "12               ml crankset               225\n",
       "13                    hl hub               178\n",
       "14          front derailleur               174\n",
       "15                ml headset               154\n",
       "16         mountain end caps               143\n",
       "17                   ll fork               140\n",
       "18          touring end caps               123\n",
       "19         ll bottom bracket               107\n",
       "20           rear derailleur               105\n",
       "21   ml mountain front wheel               100\n",
       "22        touring rear wheel                87\n",
       "23            handlebar tube                84\n",
       "24         hl bottom bracket                75\n",
       "25        ll road handlebars                63\n",
       "26     ll road seat assembly                62\n",
       "27        ml road rear wheel                58\n",
       "28        ll road rear wheel                47\n",
       "29       touring front wheel                47\n",
       "30    hl mountain handlebars                46\n",
       "31             road end caps                43\n",
       "32                hl headset                41\n",
       "33                   hl fork                38\n",
       "34                ll headset                35\n",
       "35                    ll hub                32\n",
       "36  hl touring seat assembly                25\n",
       "37       ll road front wheel                25\n",
       "38        hl road rear wheel                24\n",
       "39        ml road handlebars                23\n",
       "40       hl road front wheel                22"
      ]
     },
     "execution_count": 1214,
     "metadata": {},
     "output_type": "execute_result"
    }
   ],
   "source": [
    "#Identificação dos outliers por IQR\n",
    "Q1 = df_pfalhas['Numero de falhas'].quantile(0.25)\n",
    "Q3 = df_pfalhas['Numero de falhas'].quantile(0.75)\n",
    "IQR = Q3 - Q1\n",
    "limite_inf = max(0, Q1 - 1.5 * IQR)\n",
    "limite_sup = Q3 + 1.5 * IQR\n",
    "outlier_p = df_pfalhas[(df_pfalhas['Numero de falhas'] > limite_sup)]\n",
    "outlier_p"
   ]
  },
  {
   "cell_type": "code",
   "execution_count": 1216,
   "id": "c89ad41d-47f4-4cd1-a8fe-61ac4a61f18b",
   "metadata": {},
   "outputs": [
    {
     "data": {
      "text/html": [
       "<div>\n",
       "<style scoped>\n",
       "    .dataframe tbody tr th:only-of-type {\n",
       "        vertical-align: middle;\n",
       "    }\n",
       "\n",
       "    .dataframe tbody tr th {\n",
       "        vertical-align: top;\n",
       "    }\n",
       "\n",
       "    .dataframe thead th {\n",
       "        text-align: right;\n",
       "    }\n",
       "</style>\n",
       "<table border=\"1\" class=\"dataframe\">\n",
       "  <thead>\n",
       "    <tr style=\"text-align: right;\">\n",
       "      <th></th>\n",
       "      <th>Nome do produto</th>\n",
       "      <th>Numero de falhas</th>\n",
       "    </tr>\n",
       "  </thead>\n",
       "  <tbody>\n",
       "    <tr>\n",
       "      <th>41</th>\n",
       "      <td>ml fork</td>\n",
       "      <td>21</td>\n",
       "    </tr>\n",
       "    <tr>\n",
       "      <th>42</th>\n",
       "      <td>ml road front wheel</td>\n",
       "      <td>19</td>\n",
       "    </tr>\n",
       "    <tr>\n",
       "      <th>43</th>\n",
       "      <td>hl road handlebars</td>\n",
       "      <td>18</td>\n",
       "    </tr>\n",
       "    <tr>\n",
       "      <th>44</th>\n",
       "      <td>ll crankset</td>\n",
       "      <td>17</td>\n",
       "    </tr>\n",
       "    <tr>\n",
       "      <th>45</th>\n",
       "      <td>ll mountain seat assembly</td>\n",
       "      <td>17</td>\n",
       "    </tr>\n",
       "    <tr>\n",
       "      <th>...</th>\n",
       "      <td>...</td>\n",
       "      <td>...</td>\n",
       "    </tr>\n",
       "    <tr>\n",
       "      <th>233</th>\n",
       "      <td>ll touring frame   blue  50</td>\n",
       "      <td>0</td>\n",
       "    </tr>\n",
       "    <tr>\n",
       "      <th>234</th>\n",
       "      <td>ll touring frame   blue  58</td>\n",
       "      <td>0</td>\n",
       "    </tr>\n",
       "    <tr>\n",
       "      <th>235</th>\n",
       "      <td>ll touring frame   blue  62</td>\n",
       "      <td>0</td>\n",
       "    </tr>\n",
       "    <tr>\n",
       "      <th>236</th>\n",
       "      <td>ml mountain frame   black  38</td>\n",
       "      <td>0</td>\n",
       "    </tr>\n",
       "    <tr>\n",
       "      <th>237</th>\n",
       "      <td>ll road frame   black  62</td>\n",
       "      <td>0</td>\n",
       "    </tr>\n",
       "  </tbody>\n",
       "</table>\n",
       "<p>197 rows × 2 columns</p>\n",
       "</div>"
      ],
      "text/plain": [
       "                   Nome do produto  Numero de falhas\n",
       "41                         ml fork                21\n",
       "42             ml road front wheel                19\n",
       "43              hl road handlebars                18\n",
       "44                     ll crankset                17\n",
       "45       ll mountain seat assembly                17\n",
       "..                             ...               ...\n",
       "233    ll touring frame   blue  50                 0\n",
       "234    ll touring frame   blue  58                 0\n",
       "235    ll touring frame   blue  62                 0\n",
       "236  ml mountain frame   black  38                 0\n",
       "237      ll road frame   black  62                 0\n",
       "\n",
       "[197 rows x 2 columns]"
      ]
     },
     "execution_count": 1216,
     "metadata": {},
     "output_type": "execute_result"
    }
   ],
   "source": [
    "#Produtos sem outliers\n",
    "s_outlier = df_pfalhas[(df_pfalhas['Numero de falhas'] < limite_sup)]\n",
    "s_outlier"
   ]
  },
  {
   "cell_type": "code",
   "execution_count": 1218,
   "id": "240e6fa7-19c0-4eba-909f-fafe58eba1a2",
   "metadata": {},
   "outputs": [
    {
     "name": "stdout",
     "output_type": "stream",
     "text": [
      "O coeficiente de variação geral das falhas é de 364.86%\n",
      "Já o coeficiente de variação sem os outliers é de 147.83%\n"
     ]
    }
   ],
   "source": [
    "#Avaliando a uniformidade das falhas com e sem outliers\n",
    "CV_geral = (df_pfalhas['Numero de falhas'].std()) / (df_pfalhas['Numero de falhas'].mean()) *100\n",
    "CV_normal =(s_outlier['Numero de falhas'].std()) / (s_outlier['Numero de falhas'].mean()) *100\n",
    "print(f'O coeficiente de variação geral das falhas é de {CV_geral:.2f}%')\n",
    "print(f'Já o coeficiente de variação sem os outliers é de {CV_normal:.2f}%')                                                     "
   ]
  },
  {
   "cell_type": "code",
   "execution_count": 1267,
   "id": "c4c55437-9416-43ae-bb04-344fc356c6d1",
   "metadata": {},
   "outputs": [
    {
     "data": {
      "image/png": "[encoded data removed]",
      "text/plain": [
       "<Figure size 640x480 with 1 Axes>"
      ]
     },
     "metadata": {},
     "output_type": "display_data"
    }
   ],
   "source": [
    "#Grafico da dispersão das falhas \n",
    "sns.stripplot(data=df_pfalhas, y='Numero de falhas', jitter=True)\n",
    "plt.axhline(limite_sup, color='red', linestyle='--', label=f'Limite superior ({limite_sup:.1f})')\n",
    "plt.text(0.5, limite_sup + 1, f'{limite_sup:.1f}', color='red', ha='center', va='bottom')\n",
    "plt.title('Falhas por Produto - Visualização Detalhada')\n",
    "plt.savefig('imagens/grafico_16.png', dpi=300, bbox_inches='tight')\n",
    "\n",
    "plt.show()"
   ]
  },
  {
   "cell_type": "code",
   "execution_count": 1269,
   "id": "43355478-a69c-49fc-9500-2f70f61957a8",
   "metadata": {},
   "outputs": [
    {
     "data": {
      "image/png": "[encoded data removed]",
      "text/plain": [
       "<Figure size 1200x600 with 1 Axes>"
      ]
     },
     "metadata": {},
     "output_type": "display_data"
    }
   ],
   "source": [
    "#Gráfico dos 15 produtos que mais apresentam falhas\n",
    "grafico_by = outlier_p.groupby('Nome do produto')['Numero de falhas'].sum().sort_values(ascending=False).head(15)\n",
    "grafico_df = grafico_by.reset_index()\n",
    "plt.figure(figsize=(12, 6))\n",
    "plt.barh(grafico_df['Nome do produto'], grafico_df['Numero de falhas'], color='steelblue')\n",
    "plt.xlabel('Numero de Falhas')\n",
    "plt.title('Top 15 produtos que mais apresentam falhas durante a fabricação')\n",
    "plt.gca().invert_yaxis()\n",
    "plt.tight_layout()\n",
    "plt.savefig('imagens/grafico_17.png', dpi=300, bbox_inches='tight')\n",
    "\n",
    "plt.show()"
   ]
  },
  {
   "cell_type": "code",
   "execution_count": 1224,
   "id": "22dcbf34-bcad-46f1-bcf4-b433c1872f66",
   "metadata": {},
   "outputs": [],
   "source": [
    "#Análise\n",
    "#Durante a análise da simetria do gráfico, notou-se a skewness muito elevada, indicando uma distribuição com assimetria positiva e uma cauda muito relevante\n",
    "#Além disso, foi possível detectar a presença de inumeros outliers que deslocavam a posição original da média\n",
    "#Após a aferição do Coeficiente de variação, tando dos dados gerais, quanto dos dados sem outliers, notou-se que a distribuição dos valores de falhas já se mostrava extremamente alterada, mesmo sem os impactos dos valores extremos.\n",
    "#Os valores extremos do CV indicam uma grande dispersão da distribuição das falhas durante a produção.\n",
    "#Isso indica uma baixa previsibilidade no processo de produção e que certos produtos vem apresentando falhas frequentes ao longo do processo.\n",
    "#Seria necessário avaliar quais contextos levam às falhas encontradas\n",
    "#Dentre as possíveis soluções teríamos reavaliar os processos de produção, incluindo maquinário e pessoal, além de reavaliar a necessidade e o impacto que a interrupção da produção que determinados produtos causariam"
   ]
  },
  {
   "cell_type": "code",
   "execution_count": null,
   "id": "04c6783a-7e06-4b16-b19d-483d2527758f",
   "metadata": {},
   "outputs": [],
   "source": []
  },
  {
   "cell_type": "code",
   "execution_count": null,
   "id": "8e54f255-845e-440e-be93-211cd095968f",
   "metadata": {},
   "outputs": [],
   "source": []
  }
 ],
 "metadata": {
  "kernelspec": {
   "display_name": "Python [conda env:base] *",
   "language": "python",
   "name": "conda-base-py"
  },
  "language_info": {
   "codemirror_mode": {
    "name": "ipython",
    "version": 3
   },
   "file_extension": ".py",
   "mimetype": "text/x-python",
   "name": "python",
   "nbconvert_exporter": "python",
   "pygments_lexer": "ipython3",
   "version": "3.12.7"
  }
 },
 "nbformat": 4,
 "nbformat_minor": 5
}
